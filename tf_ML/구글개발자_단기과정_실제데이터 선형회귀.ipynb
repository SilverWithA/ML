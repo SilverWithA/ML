{
 "cells": [
  {
   "cell_type": "markdown",
   "id": "ae240b1d",
   "metadata": {},
   "source": [
    "# <Google developer ML 단기 집중 과정>\n",
    "## TF 첫걸음: 실제 데이터를 사용한 선형 회귀 실습\n",
    "\n",
    "https://developers.google.com/machine-learning/crash-course/first-steps-with-tensorflow/programming-exercises?hl=ko\n",
    "    "
   ]
  },
  {
   "cell_type": "markdown",
   "id": "8ceffb1e",
   "metadata": {},
   "source": [
    "# 학습목표\n",
    "\n",
    "\n",
    "  * [pandas](https://developers.google.com/machine-learning/glossary/#pandas) DataFrame 를 통해 csv 파일 읽기 \n",
    "  * 다른 feature를 이용해 모델 만들어보기\n",
    "  * 하이퍼 파라미터 튜닝하기"
   ]
  },
  {
   "cell_type": "markdown",
   "id": "e4f12e61",
   "metadata": {},
   "source": [
    "# 모듈 import"
   ]
  },
  {
   "cell_type": "code",
   "execution_count": 5,
   "id": "fdc787a7",
   "metadata": {},
   "outputs": [],
   "source": [
    "import pandas as pd\n",
    "import tensorflow as tf\n",
    "from matplotlib import pyplot as plt\n",
    "\n",
    "# The following lines adjust the granularity of reporting. \n",
    "pd.options.display.max_rows = 10\n",
    "pd.options.display.float_format = \"{:.1f}\".format"
   ]
  },
  {
   "cell_type": "code",
   "execution_count": 6,
   "id": "b9b1e1d2",
   "metadata": {},
   "outputs": [],
   "source": [
    "# 데이터 불러오기\n",
    "training_df = pd.read_csv(filepath_or_buffer=\"https://download.mlcc.google.com/mledu-datasets/california_housing_train.csv\")"
   ]
  },
  {
   "cell_type": "code",
   "execution_count": 7,
   "id": "1578e142",
   "metadata": {},
   "outputs": [],
   "source": [
    "# median_house_value의 값들 배율 조정\n",
    "# 다음과 같이 값을 조정하면 학습률과 손실값을 읽기 쉽게 유지할 수 있다.\n",
    "\n",
    "\n",
    "training_df[\"median_house_value\"] /= 1000.0"
   ]
  },
  {
   "cell_type": "code",
   "execution_count": 8,
   "id": "224bedd8",
   "metadata": {
    "scrolled": true
   },
   "outputs": [
    {
     "data": {
      "text/html": [
       "<div>\n",
       "<style scoped>\n",
       "    .dataframe tbody tr th:only-of-type {\n",
       "        vertical-align: middle;\n",
       "    }\n",
       "\n",
       "    .dataframe tbody tr th {\n",
       "        vertical-align: top;\n",
       "    }\n",
       "\n",
       "    .dataframe thead th {\n",
       "        text-align: right;\n",
       "    }\n",
       "</style>\n",
       "<table border=\"1\" class=\"dataframe\">\n",
       "  <thead>\n",
       "    <tr style=\"text-align: right;\">\n",
       "      <th></th>\n",
       "      <th>longitude</th>\n",
       "      <th>latitude</th>\n",
       "      <th>housing_median_age</th>\n",
       "      <th>total_rooms</th>\n",
       "      <th>total_bedrooms</th>\n",
       "      <th>population</th>\n",
       "      <th>households</th>\n",
       "      <th>median_income</th>\n",
       "      <th>median_house_value</th>\n",
       "    </tr>\n",
       "  </thead>\n",
       "  <tbody>\n",
       "    <tr>\n",
       "      <th>0</th>\n",
       "      <td>-114.3</td>\n",
       "      <td>34.2</td>\n",
       "      <td>15.0</td>\n",
       "      <td>5612.0</td>\n",
       "      <td>1283.0</td>\n",
       "      <td>1015.0</td>\n",
       "      <td>472.0</td>\n",
       "      <td>1.5</td>\n",
       "      <td>66.9</td>\n",
       "    </tr>\n",
       "    <tr>\n",
       "      <th>1</th>\n",
       "      <td>-114.5</td>\n",
       "      <td>34.4</td>\n",
       "      <td>19.0</td>\n",
       "      <td>7650.0</td>\n",
       "      <td>1901.0</td>\n",
       "      <td>1129.0</td>\n",
       "      <td>463.0</td>\n",
       "      <td>1.8</td>\n",
       "      <td>80.1</td>\n",
       "    </tr>\n",
       "    <tr>\n",
       "      <th>2</th>\n",
       "      <td>-114.6</td>\n",
       "      <td>33.7</td>\n",
       "      <td>17.0</td>\n",
       "      <td>720.0</td>\n",
       "      <td>174.0</td>\n",
       "      <td>333.0</td>\n",
       "      <td>117.0</td>\n",
       "      <td>1.7</td>\n",
       "      <td>85.7</td>\n",
       "    </tr>\n",
       "    <tr>\n",
       "      <th>3</th>\n",
       "      <td>-114.6</td>\n",
       "      <td>33.6</td>\n",
       "      <td>14.0</td>\n",
       "      <td>1501.0</td>\n",
       "      <td>337.0</td>\n",
       "      <td>515.0</td>\n",
       "      <td>226.0</td>\n",
       "      <td>3.2</td>\n",
       "      <td>73.4</td>\n",
       "    </tr>\n",
       "    <tr>\n",
       "      <th>4</th>\n",
       "      <td>-114.6</td>\n",
       "      <td>33.6</td>\n",
       "      <td>20.0</td>\n",
       "      <td>1454.0</td>\n",
       "      <td>326.0</td>\n",
       "      <td>624.0</td>\n",
       "      <td>262.0</td>\n",
       "      <td>1.9</td>\n",
       "      <td>65.5</td>\n",
       "    </tr>\n",
       "  </tbody>\n",
       "</table>\n",
       "</div>"
      ],
      "text/plain": [
       "   longitude  latitude  housing_median_age  total_rooms  total_bedrooms  \\\n",
       "0     -114.3      34.2                15.0       5612.0          1283.0   \n",
       "1     -114.5      34.4                19.0       7650.0          1901.0   \n",
       "2     -114.6      33.7                17.0        720.0           174.0   \n",
       "3     -114.6      33.6                14.0       1501.0           337.0   \n",
       "4     -114.6      33.6                20.0       1454.0           326.0   \n",
       "\n",
       "   population  households  median_income  median_house_value  \n",
       "0      1015.0       472.0            1.5                66.9  \n",
       "1      1129.0       463.0            1.8                80.1  \n",
       "2       333.0       117.0            1.7                85.7  \n",
       "3       515.0       226.0            3.2                73.4  \n",
       "4       624.0       262.0            1.9                65.5  "
      ]
     },
     "execution_count": 8,
     "metadata": {},
     "output_type": "execute_result"
    }
   ],
   "source": [
    "training_df.head()"
   ]
  },
  {
   "cell_type": "markdown",
   "id": "1625c99d",
   "metadata": {},
   "source": [
    "# 데이터 살펴보기"
   ]
  },
  {
   "cell_type": "code",
   "execution_count": 10,
   "id": "a747e1cc",
   "metadata": {
    "scrolled": true
   },
   "outputs": [
    {
     "data": {
      "text/html": [
       "<div>\n",
       "<style scoped>\n",
       "    .dataframe tbody tr th:only-of-type {\n",
       "        vertical-align: middle;\n",
       "    }\n",
       "\n",
       "    .dataframe tbody tr th {\n",
       "        vertical-align: top;\n",
       "    }\n",
       "\n",
       "    .dataframe thead th {\n",
       "        text-align: right;\n",
       "    }\n",
       "</style>\n",
       "<table border=\"1\" class=\"dataframe\">\n",
       "  <thead>\n",
       "    <tr style=\"text-align: right;\">\n",
       "      <th></th>\n",
       "      <th>longitude</th>\n",
       "      <th>latitude</th>\n",
       "      <th>housing_median_age</th>\n",
       "      <th>total_rooms</th>\n",
       "      <th>total_bedrooms</th>\n",
       "      <th>population</th>\n",
       "      <th>households</th>\n",
       "      <th>median_income</th>\n",
       "      <th>median_house_value</th>\n",
       "    </tr>\n",
       "  </thead>\n",
       "  <tbody>\n",
       "    <tr>\n",
       "      <th>count</th>\n",
       "      <td>17000.0</td>\n",
       "      <td>17000.0</td>\n",
       "      <td>17000.0</td>\n",
       "      <td>17000.0</td>\n",
       "      <td>17000.0</td>\n",
       "      <td>17000.0</td>\n",
       "      <td>17000.0</td>\n",
       "      <td>17000.0</td>\n",
       "      <td>17000.0</td>\n",
       "    </tr>\n",
       "    <tr>\n",
       "      <th>mean</th>\n",
       "      <td>-119.6</td>\n",
       "      <td>35.6</td>\n",
       "      <td>28.6</td>\n",
       "      <td>2643.7</td>\n",
       "      <td>539.4</td>\n",
       "      <td>1429.6</td>\n",
       "      <td>501.2</td>\n",
       "      <td>3.9</td>\n",
       "      <td>0.2</td>\n",
       "    </tr>\n",
       "    <tr>\n",
       "      <th>std</th>\n",
       "      <td>2.0</td>\n",
       "      <td>2.1</td>\n",
       "      <td>12.6</td>\n",
       "      <td>2179.9</td>\n",
       "      <td>421.5</td>\n",
       "      <td>1147.9</td>\n",
       "      <td>384.5</td>\n",
       "      <td>1.9</td>\n",
       "      <td>0.1</td>\n",
       "    </tr>\n",
       "    <tr>\n",
       "      <th>min</th>\n",
       "      <td>-124.3</td>\n",
       "      <td>32.5</td>\n",
       "      <td>1.0</td>\n",
       "      <td>2.0</td>\n",
       "      <td>1.0</td>\n",
       "      <td>3.0</td>\n",
       "      <td>1.0</td>\n",
       "      <td>0.5</td>\n",
       "      <td>0.0</td>\n",
       "    </tr>\n",
       "    <tr>\n",
       "      <th>25%</th>\n",
       "      <td>-121.8</td>\n",
       "      <td>33.9</td>\n",
       "      <td>18.0</td>\n",
       "      <td>1462.0</td>\n",
       "      <td>297.0</td>\n",
       "      <td>790.0</td>\n",
       "      <td>282.0</td>\n",
       "      <td>2.6</td>\n",
       "      <td>0.1</td>\n",
       "    </tr>\n",
       "    <tr>\n",
       "      <th>50%</th>\n",
       "      <td>-118.5</td>\n",
       "      <td>34.2</td>\n",
       "      <td>29.0</td>\n",
       "      <td>2127.0</td>\n",
       "      <td>434.0</td>\n",
       "      <td>1167.0</td>\n",
       "      <td>409.0</td>\n",
       "      <td>3.5</td>\n",
       "      <td>0.2</td>\n",
       "    </tr>\n",
       "    <tr>\n",
       "      <th>75%</th>\n",
       "      <td>-118.0</td>\n",
       "      <td>37.7</td>\n",
       "      <td>37.0</td>\n",
       "      <td>3151.2</td>\n",
       "      <td>648.2</td>\n",
       "      <td>1721.0</td>\n",
       "      <td>605.2</td>\n",
       "      <td>4.8</td>\n",
       "      <td>0.3</td>\n",
       "    </tr>\n",
       "    <tr>\n",
       "      <th>max</th>\n",
       "      <td>-114.3</td>\n",
       "      <td>42.0</td>\n",
       "      <td>52.0</td>\n",
       "      <td>37937.0</td>\n",
       "      <td>6445.0</td>\n",
       "      <td>35682.0</td>\n",
       "      <td>6082.0</td>\n",
       "      <td>15.0</td>\n",
       "      <td>0.5</td>\n",
       "    </tr>\n",
       "  </tbody>\n",
       "</table>\n",
       "</div>"
      ],
      "text/plain": [
       "       longitude  latitude  housing_median_age  total_rooms  total_bedrooms  \\\n",
       "count    17000.0   17000.0             17000.0      17000.0         17000.0   \n",
       "mean      -119.6      35.6                28.6       2643.7           539.4   \n",
       "std          2.0       2.1                12.6       2179.9           421.5   \n",
       "min       -124.3      32.5                 1.0          2.0             1.0   \n",
       "25%       -121.8      33.9                18.0       1462.0           297.0   \n",
       "50%       -118.5      34.2                29.0       2127.0           434.0   \n",
       "75%       -118.0      37.7                37.0       3151.2           648.2   \n",
       "max       -114.3      42.0                52.0      37937.0          6445.0   \n",
       "\n",
       "       population  households  median_income  median_house_value  \n",
       "count     17000.0     17000.0        17000.0             17000.0  \n",
       "mean       1429.6       501.2            3.9                 0.2  \n",
       "std        1147.9       384.5            1.9                 0.1  \n",
       "min           3.0         1.0            0.5                 0.0  \n",
       "25%         790.0       282.0            2.6                 0.1  \n",
       "50%        1167.0       409.0            3.5                 0.2  \n",
       "75%        1721.0       605.2            4.8                 0.3  \n",
       "max       35682.0      6082.0           15.0                 0.5  "
      ]
     },
     "execution_count": 10,
     "metadata": {},
     "output_type": "execute_result"
    }
   ],
   "source": [
    "training_df.describe()"
   ]
  },
  {
   "cell_type": "markdown",
   "id": "56210fc6",
   "metadata": {},
   "source": [
    "# Task 1 데이터셋의 이상치 식별하기\n",
    "\n",
    "몇몇 컬럼에서 maximum값이 눈에 띄게 높은 것을 확인할 수 있다. \n",
    "\n",
    "특히 `total_rooms`의 경우 주어진 quantile(25%, 50%,75%)의 간격이나 값을 볼때 maximum이 5000이나 10000일 것이라고 유추할 수 있다. 하지만 실제 최댓값은 `37,939`이다.\n",
    "\n",
    "\n",
    "\n",
    "어떤 컬럼에 이상치가 나타날때 feature로 사용하는데 더욱 주의해야한다. feature의 이상이 label에도 반영될 수 있기 때문이다.\n"
   ]
  },
  {
   "cell_type": "markdown",
   "id": "ccb4c53a",
   "metadata": {},
   "source": [
    "# 모델 만드는 함수 정의하기\n",
    "\n",
    "\n",
    "`build_model`과 `train_model` 함수 만들기"
   ]
  },
  {
   "cell_type": "code",
   "execution_count": 17,
   "id": "0bbed30a",
   "metadata": {},
   "outputs": [
    {
     "name": "stdout",
     "output_type": "stream",
     "text": [
      "Defined the functions!\n"
     ]
    }
   ],
   "source": [
    "def build_model(my_learning_rate):\n",
    "    \n",
    "    model = tf.keras.models.Sequential()\n",
    "    \n",
    "    model.add(tf.keras.layers.Dense(units=1, \n",
    "                                  input_shape=(1,)))\n",
    "    \n",
    "    model.compile(optimizer=tf.keras.optimizers.experimental.RMSprop(learning_rate=my_learning_rate),\n",
    "                  loss=\"mean_squared_error\",\n",
    "                  metrics=[tf.keras.metrics.RootMeanSquaredError()])\n",
    "    return model\n",
    "\n",
    "\n",
    "def train_model(model, df, feature, label, epochs, batch_size):\n",
    "    \n",
    "    history = model.fit(x = df[feature],\n",
    "                       y= df[label],\n",
    "                       batch_size = batch_size,\n",
    "                       epochs = epochs)\n",
    "    \n",
    "    \n",
    "    trained_weight = model.get_weights()[0]\n",
    "    trained_bias = model.get_weights()[1]\n",
    "    \n",
    "    \n",
    "    epochs = history.epoch\n",
    "    \n",
    "    hist = pd.DataFrame(history.history)\n",
    "    \n",
    "    rmse = hist[\"root_mean_squared_error\"]\n",
    "    \n",
    "    return trained_weight, trained_bias, epochs, rmse\n",
    "\n",
    "print(\"Defined the functions!\")"
   ]
  },
  {
   "cell_type": "markdown",
   "id": "4119e8e9",
   "metadata": {},
   "source": [
    "# plotting 함수 만들기\n",
    "\n",
    "함수의 예측값과 loss curve를 그려주는 함수 만들기"
   ]
  },
  {
   "cell_type": "code",
   "execution_count": 29,
   "id": "7a1355a4",
   "metadata": {},
   "outputs": [
    {
     "name": "stdout",
     "output_type": "stream",
     "text": [
      "Define the functions!\n"
     ]
    }
   ],
   "source": [
    "def plot_the_model(trained_weight, trained_bias, feature, label):\n",
    "    plt.xlabel(feature)\n",
    "    plt.ylabel(label)\n",
    "    \n",
    "    \n",
    "    \n",
    "    random_examples = training_df.sample(n=200)\n",
    "    \n",
    "    plt.scatter(random_examples[feature],random_examples[label])\n",
    "    \n",
    "    x0 = 0\n",
    "    y0 =trained_bias\n",
    "    x1 = random_examples[feature].max()\n",
    "    y1 = trained_bias + (trained_weight * x1)\n",
    "    \n",
    "    plt.plot([x0,x1],[y0,y1], c='r')\n",
    "    \n",
    "    plt.show()\n",
    "    \n",
    "    \n",
    "def plot_the_loss_curve(epochs, rmse):\n",
    "    \n",
    "    plt.figure()\n",
    "    \n",
    "    plt.xlabel(\"Epoch\")\n",
    "    plt.ylabel(\"Root Mean Squared Error\")\n",
    "    \n",
    "    \n",
    "    plt.plot(epochs, rmse, label = \"Loss\")\n",
    "    plt.legend()\n",
    "    plt.ylim([rmse.min() *0.97, rmse.max()])\n",
    "    plt.show()\n",
    "    \n",
    "print(\"Define the functions!\")"
   ]
  },
  {
   "cell_type": "markdown",
   "id": "a6496549",
   "metadata": {},
   "source": [
    "# 모델 만들기"
   ]
  },
  {
   "cell_type": "code",
   "execution_count": 31,
   "id": "7e35df2a",
   "metadata": {},
   "outputs": [
    {
     "name": "stdout",
     "output_type": "stream",
     "text": [
      "Epoch 1/30\n",
      "567/567 [==============================] - 1s 644us/step - loss: 64979.6602 - root_mean_squared_error: 254.9111\n",
      "Epoch 2/30\n",
      "567/567 [==============================] - 0s 622us/step - loss: 27682.2188 - root_mean_squared_error: 166.3797\n",
      "Epoch 3/30\n",
      "567/567 [==============================] - 0s 824us/step - loss: 27313.9141 - root_mean_squared_error: 165.2692\n",
      "Epoch 4/30\n",
      "567/567 [==============================] - 0s 678us/step - loss: 26415.8672 - root_mean_squared_error: 162.5296\n",
      "Epoch 5/30\n",
      "567/567 [==============================] - 0s 713us/step - loss: 25648.5391 - root_mean_squared_error: 160.1516\n",
      "Epoch 6/30\n",
      "567/567 [==============================] - 0s 660us/step - loss: 25055.0469 - root_mean_squared_error: 158.2879\n",
      "Epoch 7/30\n",
      "567/567 [==============================] - 0s 605us/step - loss: 24314.7754 - root_mean_squared_error: 155.9320\n",
      "Epoch 8/30\n",
      "567/567 [==============================] - 0s 703us/step - loss: 23646.3496 - root_mean_squared_error: 153.7737\n",
      "Epoch 9/30\n",
      "567/567 [==============================] - 0s 766us/step - loss: 23235.7090 - root_mean_squared_error: 152.4326\n",
      "Epoch 10/30\n",
      "567/567 [==============================] - 0s 758us/step - loss: 22623.3203 - root_mean_squared_error: 150.4105\n",
      "Epoch 11/30\n",
      "567/567 [==============================] - 0s 685us/step - loss: 21993.7324 - root_mean_squared_error: 148.3028\n",
      "Epoch 12/30\n",
      "567/567 [==============================] - 0s 639us/step - loss: 21395.5781 - root_mean_squared_error: 146.2723\n",
      "Epoch 13/30\n",
      "567/567 [==============================] - 0s 647us/step - loss: 20934.9707 - root_mean_squared_error: 144.6892\n",
      "Epoch 14/30\n",
      "567/567 [==============================] - 0s 643us/step - loss: 20487.5195 - root_mean_squared_error: 143.1346\n",
      "Epoch 15/30\n",
      "567/567 [==============================] - 0s 755us/step - loss: 19978.3887 - root_mean_squared_error: 141.3449\n",
      "Epoch 16/30\n",
      "567/567 [==============================] - 0s 709us/step - loss: 19494.6992 - root_mean_squared_error: 139.6234\n",
      "Epoch 17/30\n",
      "567/567 [==============================] - 0s 608us/step - loss: 19104.6895 - root_mean_squared_error: 138.2197\n",
      "Epoch 18/30\n",
      "567/567 [==============================] - 0s 604us/step - loss: 18652.4766 - root_mean_squared_error: 136.5741\n",
      "Epoch 19/30\n",
      "567/567 [==============================] - 0s 628us/step - loss: 18313.7832 - root_mean_squared_error: 135.3284\n",
      "Epoch 20/30\n",
      "567/567 [==============================] - 0s 624us/step - loss: 17953.8203 - root_mean_squared_error: 133.9919\n",
      "Epoch 21/30\n",
      "567/567 [==============================] - 0s 636us/step - loss: 17606.1074 - root_mean_squared_error: 132.6880\n",
      "Epoch 22/30\n",
      "567/567 [==============================] - 0s 634us/step - loss: 17326.3457 - root_mean_squared_error: 131.6296\n",
      "Epoch 23/30\n",
      "567/567 [==============================] - 0s 736us/step - loss: 16932.5801 - root_mean_squared_error: 130.1252\n",
      "Epoch 24/30\n",
      "567/567 [==============================] - 0s 755us/step - loss: 16714.5723 - root_mean_squared_error: 129.2849\n",
      "Epoch 25/30\n",
      "567/567 [==============================] - 0s 755us/step - loss: 16284.7002 - root_mean_squared_error: 127.6115\n",
      "Epoch 26/30\n",
      "567/567 [==============================] - 0s 796us/step - loss: 16074.6201 - root_mean_squared_error: 126.7857\n",
      "Epoch 27/30\n",
      "567/567 [==============================] - 0s 847us/step - loss: 16003.5430 - root_mean_squared_error: 126.5051\n",
      "Epoch 28/30\n",
      "567/567 [==============================] - 1s 921us/step - loss: 15608.4561 - root_mean_squared_error: 124.9338\n",
      "Epoch 29/30\n",
      "567/567 [==============================] - 0s 792us/step - loss: 15432.1045 - root_mean_squared_error: 124.2260\n",
      "Epoch 30/30\n",
      "567/567 [==============================] - 1s 968us/step - loss: 15350.0742 - root_mean_squared_error: 123.8954\n"
     ]
    }
   ],
   "source": [
    "learning_rate = 0.01\n",
    "epochs = 30\n",
    "batch_size = 30\n",
    "\n",
    "\n",
    "# 특정 도시 블록에 있는 전체 방 개수를 feature로 사용\n",
    "# 특정 도시 블록의 집의 중앙값을 label로 사용\n",
    "\n",
    "my_feature = \"total_rooms\"\n",
    "my_label = \"median_house_value\"\n",
    "\n",
    "\n",
    "# 이전에 존재하는 모델 초기화\n",
    "my_model = None\n",
    "\n",
    "my_model = build_model(learning_rate)\n",
    "weight, bias, epochs, rmse = train_model(my_model, training_df,\n",
    "                                        my_feature, my_label,\n",
    "                                         epochs, batch_size)"
   ]
  },
  {
   "cell_type": "code",
   "execution_count": 34,
   "id": "884ec274",
   "metadata": {},
   "outputs": [
    {
     "name": "stdout",
     "output_type": "stream",
     "text": [
      "\n",
      " The learned weight fof your model is 0.0021\n",
      "The learned bias for your model is 131.7538\n",
      "\n"
     ]
    }
   ],
   "source": [
    "print(\"\\n The learned weight fof your model is %.4f\" % weight)\n",
    "print(\"The learned bias for your model is %.4f\\n\" % bias)"
   ]
  },
  {
   "cell_type": "code",
   "execution_count": 35,
   "id": "cd20d11d",
   "metadata": {},
   "outputs": [
    {
     "name": "stderr",
     "output_type": "stream",
     "text": [
      "C:\\Users\\Playdata\\anaconda3\\lib\\site-packages\\numpy\\core\\shape_base.py:65: VisibleDeprecationWarning: Creating an ndarray from ragged nested sequences (which is a list-or-tuple of lists-or-tuples-or ndarrays with different lengths or shapes) is deprecated. If you meant to do this, you must specify 'dtype=object' when creating the ndarray.\n",
      "  ary = asanyarray(ary)\n"
     ]
    },
    {
     "data": {
      "image/png": "[encoded data removed]",
      "text/plain": [
       "<Figure size 640x480 with 1 Axes>"
      ]
     },
     "metadata": {},
     "output_type": "display_data"
    },
    {
     "data": {
      "image/png": "[encoded data removed]",
      "text/plain": [
       "<Figure size 640x480 with 1 Axes>"
      ]
     },
     "metadata": {},
     "output_type": "display_data"
    }
   ],
   "source": [
    "plot_the_model(weight, bias, my_feature,my_label)\n",
    "plot_the_loss_curve(epochs,rmse)"
   ]
  },
  {
   "cell_type": "markdown",
   "id": "6251d25c",
   "metadata": {},
   "source": [
    "# 모델을 이용해 추론하기\n",
    "\n",
    "학습데이터와 테스트데이터로 분할하여 모델의 성능을 평가할 수 있다. 해당 exercise에서는 같은 학습데이터의 서브셋을 사용하도록 하였다."
   ]
  },
  {
   "cell_type": "code",
   "execution_count": 41,
   "id": "f3df7266",
   "metadata": {},
   "outputs": [],
   "source": [
    "def predict_house_values(n, feature, label):\n",
    "    \"\"\"feature기반으로 주택 가치 추정하기\"\"\"\n",
    "    \n",
    "    batch = training_df[feature][10000:10000+n]\n",
    "    \n",
    "    # https://www.tensorflow.org/api_docs/python/tf/keras/Sequential#predict_on_batch\n",
    "    predicted_values = my_model.predict_on_batch(x=batch)\n",
    "    \n",
    "    print(\"feature   label          predicted\")\n",
    "    print(\"  value   value          value\")\n",
    "    print(\"          in thousand$   in thousand$\")\n",
    "    print(\"--------------------------------------\")\n",
    "    for i in range(n):\n",
    "        print (\"%5.0f %6.0f %15.0f\" % (training_df[feature][10000 + i],\n",
    "                                     training_df[label][10000 + i],\n",
    "                                     predicted_values[i][0] ))"
   ]
  },
  {
   "cell_type": "code",
   "execution_count": 42,
   "id": "2c4c96ee",
   "metadata": {
    "scrolled": true
   },
   "outputs": [
    {
     "name": "stdout",
     "output_type": "stream",
     "text": [
      "feature   label          predicted\n",
      "  value   value          value\n",
      "          in thousand$   in thousand$\n",
      "--------------------------------------\n",
      " 1286     53             184\n",
      " 1867     92             206\n",
      " 2191     69             219\n",
      " 1052     62             175\n",
      " 1647     80             198\n",
      " 2312    295             223\n",
      " 1604    500             196\n",
      " 1066    342             176\n",
      "  338    118             148\n",
      " 1604    128             196\n"
     ]
    }
   ],
   "source": [
    "predict_house_values(10,my_feature,my_label)"
   ]
  },
  {
   "cell_type": "markdown",
   "id": "977ccc80",
   "metadata": {},
   "source": [
    "# Task 2 모델의 예측력 평가하기\n",
    "\n",
    "위의 테이블에서 실제값과 예측값의 차이를 살펴보라.\n",
    "\n",
    "대부분의 예측값들이 실제값 label value와 상당히 다른 것을 확인할 수 있다. 따라서 해당 모델의 좋은 예측력을 가지고 있다고 보기 어렵다. 이와같은 예측력은 처음 10개의 example이 10개 이외의 데이터에 대해 대표성을 가지고 있지 않기 때문일지도 모른다."
   ]
  },
  {
   "cell_type": "markdown",
   "id": "632d448e",
   "metadata": {},
   "source": [
    "# Task 3 다른 feature 사용해보기\n",
    "\n",
    "위에서 사용한 feature `'total_romms'`는 적은 예측력을 가지고 있는 것을 확인해보았다. 다른 feature을 사용하면 예측력이 높아질까? \n",
    "\n",
    "\n",
    "`population`을 feature로 모델을 구성해 예측해보자."
   ]
  },
  {
   "cell_type": "code",
   "execution_count": 48,
   "id": "d8ac3c65",
   "metadata": {
    "scrolled": true
   },
   "outputs": [
    {
     "name": "stdout",
     "output_type": "stream",
     "text": [
      "Epoch 1/18\n",
      "5667/5667 [==============================] - 6s 1ms/step - loss: 14499.9785 - root_mean_squared_error: 120.4159\n",
      "Epoch 2/18\n",
      "5667/5667 [==============================] - 6s 1ms/step - loss: 14332.1650 - root_mean_squared_error: 119.7170\n",
      "Epoch 3/18\n",
      "5667/5667 [==============================] - 6s 1ms/step - loss: 14167.9482 - root_mean_squared_error: 119.0292\n",
      "Epoch 4/18\n",
      "5667/5667 [==============================] - 6s 1ms/step - loss: 14140.2773 - root_mean_squared_error: 118.9129\n",
      "Epoch 5/18\n",
      "5667/5667 [==============================] - 7s 1ms/step - loss: 14046.0469 - root_mean_squared_error: 118.5160\n",
      "Epoch 6/18\n",
      "5667/5667 [==============================] - 6s 1ms/step - loss: 14035.5459 - root_mean_squared_error: 118.4717\n",
      "Epoch 7/18\n",
      "5667/5667 [==============================] - 6s 1ms/step - loss: 14017.9619 - root_mean_squared_error: 118.3975\n",
      "Epoch 8/18\n",
      "5667/5667 [==============================] - 6s 1ms/step - loss: 13993.6865 - root_mean_squared_error: 118.2949\n",
      "Epoch 9/18\n",
      "5667/5667 [==============================] - 6s 1ms/step - loss: 14085.8516 - root_mean_squared_error: 118.6838\n",
      "Epoch 10/18\n",
      "5667/5667 [==============================] - 6s 1ms/step - loss: 14052.2422 - root_mean_squared_error: 118.5422\n",
      "Epoch 11/18\n",
      "5667/5667 [==============================] - 6s 1ms/step - loss: 14021.4609 - root_mean_squared_error: 118.4122\n",
      "Epoch 12/18\n",
      "5667/5667 [==============================] - 7s 1ms/step - loss: 14107.6113 - root_mean_squared_error: 118.7755\n",
      "Epoch 13/18\n",
      "5667/5667 [==============================] - 6s 1ms/step - loss: 14005.9629 - root_mean_squared_error: 118.3468\n",
      "Epoch 14/18\n",
      "5667/5667 [==============================] - 6s 1ms/step - loss: 14039.4297 - root_mean_squared_error: 118.4881\n",
      "Epoch 15/18\n",
      "5667/5667 [==============================] - 6s 992us/step - loss: 13998.0068 - root_mean_squared_error: 118.3132\n",
      "Epoch 16/18\n",
      "5667/5667 [==============================] - 6s 1ms/step - loss: 14009.1875 - root_mean_squared_error: 118.3604\n",
      "Epoch 17/18\n",
      "5667/5667 [==============================] - 6s 1ms/step - loss: 14021.0068 - root_mean_squared_error: 118.4103\n",
      "Epoch 18/18\n",
      "5667/5667 [==============================] - 6s 1ms/step - loss: 14054.7354 - root_mean_squared_error: 118.5527\n"
     ]
    },
    {
     "name": "stderr",
     "output_type": "stream",
     "text": [
      "C:\\Users\\Playdata\\anaconda3\\lib\\site-packages\\numpy\\core\\shape_base.py:65: VisibleDeprecationWarning: Creating an ndarray from ragged nested sequences (which is a list-or-tuple of lists-or-tuples-or ndarrays with different lengths or shapes) is deprecated. If you meant to do this, you must specify 'dtype=object' when creating the ndarray.\n",
      "  ary = asanyarray(ary)\n"
     ]
    },
    {
     "data": {
      "image/png": "[encoded data removed]",
      "text/plain": [
       "<Figure size 640x480 with 1 Axes>"
      ]
     },
     "metadata": {},
     "output_type": "display_data"
    },
    {
     "data": {
      "image/png": "[encoded data removed]",
      "text/plain": [
       "<Figure size 640x480 with 1 Axes>"
      ]
     },
     "metadata": {},
     "output_type": "display_data"
    }
   ],
   "source": [
    "my_feature = 'population'\n",
    "\n",
    "learning_rate = 0.05\n",
    "epochs = 18\n",
    "batch_size = 10\n",
    "\n",
    "weight, bias, epochs, rmse = train_model(my_model, training_df, \n",
    "                                         my_feature, my_label,\n",
    "                                         epochs, batch_size)\n",
    "plot_the_model(weight, bias, my_feature, my_label)\n",
    "plot_the_loss_curve(epochs, rmse)\n"
   ]
  },
  {
   "cell_type": "code",
   "execution_count": 45,
   "id": "5cf705e6",
   "metadata": {},
   "outputs": [
    {
     "name": "stdout",
     "output_type": "stream",
     "text": [
      "feature   label          predicted\n",
      "  value   value          value\n",
      "          in thousand$   in thousand$\n",
      "--------------------------------------\n",
      " 1286     53             173\n",
      " 1867     92             186\n",
      " 2191     69             194\n",
      " 1052     62             167\n",
      " 1647     80             181\n",
      " 2312    295             197\n",
      " 1604    500             180\n",
      " 1066    342             168\n",
      "  338    118             151\n",
      " 1604    128             180\n",
      " 1200    187             171\n",
      "  292     80             150\n",
      " 2014    112             190\n",
      " 1817     95             185\n",
      " 1328     69             174\n"
     ]
    }
   ],
   "source": [
    "predict_house_values(15, my_feature, my_label)"
   ]
  },
  {
   "cell_type": "markdown",
   "id": "7991f128",
   "metadata": {},
   "source": [
    "#### Q. feature 값으로 `population`을 사용하는 모델이 `total_room`를 사용하는 것돠 더 나은 예측을 수행하는가?\n",
    "\n",
    "\n",
    "\n",
    "확정적으로 말할 순 없지만 하이퍼 파라미터를 조정해보아도 대체적으로 population을 feature로 사용할 때 total_rooms를 사용할 때보다 다소 RMSE가 높게 형성되어 있는 것을 확인할 수 있다. 따라서 population은 비슷하거나 덜 나은 예측을 한다고 볼 수 있다."
   ]
  },
  {
   "cell_type": "markdown",
   "id": "990ac52d",
   "metadata": {},
   "source": [
    "# Task 4. synthetic feature 정의하기\n",
    "\n",
    "`total_rooms`과 `population` 이 유용한 feature에 해당하지 않는 것을 확인했다. 이것은 전체 방 개수와 인구수가 주택가치의 중앙값 예측에 유용하지 않다는 것을 의미한다. \n",
    "\n",
    "\n",
    " 하지만, `population` 대비 `total_rooms` 비도 비슷한 예측력을 보일 수도 있다. 즉, 블록마다의 인구밀집도(density)가 주택가치의 중앙값과 연관있을 수 있다.\n",
    " \n",
    " \n",
    " 1. synthetic feature(인구 대비 방의 개수)을 만든다\n",
    " 2. 하이퍼 파라미터를 튜닝한다\n",
    " 3. synthetic feature을 사용한 모델이 loss를 줄이는지 판단한다"
   ]
  },
  {
   "cell_type": "code",
   "execution_count": 49,
   "id": "212ebaec",
   "metadata": {
    "scrolled": true
   },
   "outputs": [
    {
     "name": "stdout",
     "output_type": "stream",
     "text": [
      "Epoch 1/24\n",
      "567/567 [==============================] - 1s 1ms/step - loss: 38103.4062 - root_mean_squared_error: 195.2009\n",
      "Epoch 2/24\n",
      "567/567 [==============================] - 0s 841us/step - loss: 19002.9902 - root_mean_squared_error: 137.8513\n",
      "Epoch 3/24\n",
      "567/567 [==============================] - 1s 949us/step - loss: 14945.6631 - root_mean_squared_error: 122.2525\n",
      "Epoch 4/24\n",
      "567/567 [==============================] - 1s 1ms/step - loss: 14815.4062 - root_mean_squared_error: 121.7186\n",
      "Epoch 5/24\n",
      "567/567 [==============================] - 1s 1ms/step - loss: 14659.3125 - root_mean_squared_error: 121.0756\n",
      "Epoch 6/24\n",
      "567/567 [==============================] - 1s 1ms/step - loss: 14495.6367 - root_mean_squared_error: 120.3978\n",
      "Epoch 7/24\n",
      "567/567 [==============================] - 1s 1ms/step - loss: 14354.8232 - root_mean_squared_error: 119.8116\n",
      "Epoch 8/24\n",
      "567/567 [==============================] - 1s 1ms/step - loss: 14197.5566 - root_mean_squared_error: 119.1535\n",
      "Epoch 9/24\n",
      "567/567 [==============================] - 1s 1ms/step - loss: 14061.1758 - root_mean_squared_error: 118.5798\n",
      "Epoch 10/24\n",
      "567/567 [==============================] - 1s 980us/step - loss: 13974.2939 - root_mean_squared_error: 118.2129\n",
      "Epoch 11/24\n",
      "567/567 [==============================] - 1s 1ms/step - loss: 13932.6270 - root_mean_squared_error: 118.0366\n",
      "Epoch 12/24\n",
      "567/567 [==============================] - 1s 1ms/step - loss: 13780.6182 - root_mean_squared_error: 117.3909\n",
      "Epoch 13/24\n",
      "567/567 [==============================] - 1s 990us/step - loss: 13711.5322 - root_mean_squared_error: 117.0963\n",
      "Epoch 14/24\n",
      "567/567 [==============================] - 1s 925us/step - loss: 13665.5996 - root_mean_squared_error: 116.9000\n",
      "Epoch 15/24\n",
      "567/567 [==============================] - 1s 1ms/step - loss: 13609.6260 - root_mean_squared_error: 116.6603\n",
      "Epoch 16/24\n",
      "567/567 [==============================] - 0s 824us/step - loss: 13569.2754 - root_mean_squared_error: 116.4872\n",
      "Epoch 17/24\n",
      "567/567 [==============================] - 1s 899us/step - loss: 13497.5039 - root_mean_squared_error: 116.1788\n",
      "Epoch 18/24\n",
      "567/567 [==============================] - 0s 799us/step - loss: 13466.9736 - root_mean_squared_error: 116.0473\n",
      "Epoch 19/24\n",
      "567/567 [==============================] - 0s 786us/step - loss: 13441.4834 - root_mean_squared_error: 115.9374\n",
      "Epoch 20/24\n",
      "567/567 [==============================] - 1s 941us/step - loss: 13424.4766 - root_mean_squared_error: 115.8640\n",
      "Epoch 21/24\n",
      "567/567 [==============================] - 0s 793us/step - loss: 13392.8438 - root_mean_squared_error: 115.7275\n",
      "Epoch 22/24\n",
      "567/567 [==============================] - 0s 804us/step - loss: 13362.1299 - root_mean_squared_error: 115.5947\n",
      "Epoch 23/24\n",
      "567/567 [==============================] - 0s 820us/step - loss: 13328.0605 - root_mean_squared_error: 115.4472\n",
      "Epoch 24/24\n",
      "567/567 [==============================] - 0s 721us/step - loss: 13335.5547 - root_mean_squared_error: 115.4797\n"
     ]
    },
    {
     "data": {
      "image/png": "[encoded data removed]",
      "text/plain": [
       "<Figure size 640x480 with 1 Axes>"
      ]
     },
     "metadata": {},
     "output_type": "display_data"
    },
    {
     "name": "stdout",
     "output_type": "stream",
     "text": [
      "feature   label          predicted\n",
      "  value   value          value\n",
      "          in thousand$   in thousand$\n",
      "--------------------------------------\n",
      "    2     53             190\n",
      "    2     92             201\n",
      "    2     69             195\n",
      "    2     62             211\n",
      "    1     80             187\n",
      "    2    295             225\n",
      "    2    500             210\n",
      "    2    342             223\n",
      "    4    118             286\n",
      "    2    128             214\n",
      "    2    187             224\n",
      "    3     80             234\n",
      "    2    112             225\n",
      "    2     95             219\n",
      "    2     69             211\n"
     ]
    }
   ],
   "source": [
    "training_df[\"rooms_per_person\"] = training_df[\"total_rooms\"] / training_df[\"population\"]\n",
    "my_feature = \"rooms_per_person\"\n",
    "\n",
    "# Tune the hyperparameters.\n",
    "learning_rate = 0.06\n",
    "epochs = 24\n",
    "batch_size = 30\n",
    "\n",
    "# Don't change anything below this line.\n",
    "my_model = build_model(learning_rate)\n",
    "weight, bias, epochs, mae = train_model(my_model, training_df,\n",
    "                                        my_feature, my_label,\n",
    "                                        epochs, batch_size)\n",
    "\n",
    "plot_the_loss_curve(epochs, mae)\n",
    "predict_house_values(15, my_feature, my_label)"
   ]
  },
  {
   "cell_type": "markdown",
   "id": "bf281fde",
   "metadata": {},
   "source": [
    "loss values를 보면 synthetic feature를 사용하는게 각각 feature을 사용하는 것보다 더 나은 예측을 수행하는 것을 확인할 수 있다.(Task2, Task3) 다만 이 모델 역시 좋은 예측을 수행한다고 판단하기는 어렵다."
   ]
  },
  {
   "cell_type": "markdown",
   "id": "f82a6536",
   "metadata": {},
   "source": [
    "# Task 5. label과 상관관계가 있는 feature 찾기\n",
    "\n",
    "correlation matrix를 확인하여 label과 feature의 상관 관계를 간단하게 확인할 수 있다."
   ]
  },
  {
   "cell_type": "code",
   "execution_count": 50,
   "id": "3328b4ae",
   "metadata": {},
   "outputs": [
    {
     "data": {
      "text/html": [
       "<div>\n",
       "<style scoped>\n",
       "    .dataframe tbody tr th:only-of-type {\n",
       "        vertical-align: middle;\n",
       "    }\n",
       "\n",
       "    .dataframe tbody tr th {\n",
       "        vertical-align: top;\n",
       "    }\n",
       "\n",
       "    .dataframe thead th {\n",
       "        text-align: right;\n",
       "    }\n",
       "</style>\n",
       "<table border=\"1\" class=\"dataframe\">\n",
       "  <thead>\n",
       "    <tr style=\"text-align: right;\">\n",
       "      <th></th>\n",
       "      <th>longitude</th>\n",
       "      <th>latitude</th>\n",
       "      <th>housing_median_age</th>\n",
       "      <th>total_rooms</th>\n",
       "      <th>total_bedrooms</th>\n",
       "      <th>population</th>\n",
       "      <th>households</th>\n",
       "      <th>median_income</th>\n",
       "      <th>median_house_value</th>\n",
       "      <th>rooms_per_person</th>\n",
       "    </tr>\n",
       "  </thead>\n",
       "  <tbody>\n",
       "    <tr>\n",
       "      <th>longitude</th>\n",
       "      <td>1.0</td>\n",
       "      <td>-0.9</td>\n",
       "      <td>-0.1</td>\n",
       "      <td>0.0</td>\n",
       "      <td>0.1</td>\n",
       "      <td>0.1</td>\n",
       "      <td>0.1</td>\n",
       "      <td>-0.0</td>\n",
       "      <td>-0.0</td>\n",
       "      <td>-0.1</td>\n",
       "    </tr>\n",
       "    <tr>\n",
       "      <th>latitude</th>\n",
       "      <td>-0.9</td>\n",
       "      <td>1.0</td>\n",
       "      <td>0.0</td>\n",
       "      <td>-0.0</td>\n",
       "      <td>-0.1</td>\n",
       "      <td>-0.1</td>\n",
       "      <td>-0.1</td>\n",
       "      <td>-0.1</td>\n",
       "      <td>-0.1</td>\n",
       "      <td>0.1</td>\n",
       "    </tr>\n",
       "    <tr>\n",
       "      <th>housing_median_age</th>\n",
       "      <td>-0.1</td>\n",
       "      <td>0.0</td>\n",
       "      <td>1.0</td>\n",
       "      <td>-0.4</td>\n",
       "      <td>-0.3</td>\n",
       "      <td>-0.3</td>\n",
       "      <td>-0.3</td>\n",
       "      <td>-0.1</td>\n",
       "      <td>0.1</td>\n",
       "      <td>-0.1</td>\n",
       "    </tr>\n",
       "    <tr>\n",
       "      <th>total_rooms</th>\n",
       "      <td>0.0</td>\n",
       "      <td>-0.0</td>\n",
       "      <td>-0.4</td>\n",
       "      <td>1.0</td>\n",
       "      <td>0.9</td>\n",
       "      <td>0.9</td>\n",
       "      <td>0.9</td>\n",
       "      <td>0.2</td>\n",
       "      <td>0.1</td>\n",
       "      <td>0.1</td>\n",
       "    </tr>\n",
       "    <tr>\n",
       "      <th>total_bedrooms</th>\n",
       "      <td>0.1</td>\n",
       "      <td>-0.1</td>\n",
       "      <td>-0.3</td>\n",
       "      <td>0.9</td>\n",
       "      <td>1.0</td>\n",
       "      <td>0.9</td>\n",
       "      <td>1.0</td>\n",
       "      <td>-0.0</td>\n",
       "      <td>0.0</td>\n",
       "      <td>0.0</td>\n",
       "    </tr>\n",
       "    <tr>\n",
       "      <th>population</th>\n",
       "      <td>0.1</td>\n",
       "      <td>-0.1</td>\n",
       "      <td>-0.3</td>\n",
       "      <td>0.9</td>\n",
       "      <td>0.9</td>\n",
       "      <td>1.0</td>\n",
       "      <td>0.9</td>\n",
       "      <td>-0.0</td>\n",
       "      <td>-0.0</td>\n",
       "      <td>-0.1</td>\n",
       "    </tr>\n",
       "    <tr>\n",
       "      <th>households</th>\n",
       "      <td>0.1</td>\n",
       "      <td>-0.1</td>\n",
       "      <td>-0.3</td>\n",
       "      <td>0.9</td>\n",
       "      <td>1.0</td>\n",
       "      <td>0.9</td>\n",
       "      <td>1.0</td>\n",
       "      <td>0.0</td>\n",
       "      <td>0.1</td>\n",
       "      <td>-0.0</td>\n",
       "    </tr>\n",
       "    <tr>\n",
       "      <th>median_income</th>\n",
       "      <td>-0.0</td>\n",
       "      <td>-0.1</td>\n",
       "      <td>-0.1</td>\n",
       "      <td>0.2</td>\n",
       "      <td>-0.0</td>\n",
       "      <td>-0.0</td>\n",
       "      <td>0.0</td>\n",
       "      <td>1.0</td>\n",
       "      <td>0.7</td>\n",
       "      <td>0.2</td>\n",
       "    </tr>\n",
       "    <tr>\n",
       "      <th>median_house_value</th>\n",
       "      <td>-0.0</td>\n",
       "      <td>-0.1</td>\n",
       "      <td>0.1</td>\n",
       "      <td>0.1</td>\n",
       "      <td>0.0</td>\n",
       "      <td>-0.0</td>\n",
       "      <td>0.1</td>\n",
       "      <td>0.7</td>\n",
       "      <td>1.0</td>\n",
       "      <td>0.2</td>\n",
       "    </tr>\n",
       "    <tr>\n",
       "      <th>rooms_per_person</th>\n",
       "      <td>-0.1</td>\n",
       "      <td>0.1</td>\n",
       "      <td>-0.1</td>\n",
       "      <td>0.1</td>\n",
       "      <td>0.0</td>\n",
       "      <td>-0.1</td>\n",
       "      <td>-0.0</td>\n",
       "      <td>0.2</td>\n",
       "      <td>0.2</td>\n",
       "      <td>1.0</td>\n",
       "    </tr>\n",
       "  </tbody>\n",
       "</table>\n",
       "</div>"
      ],
      "text/plain": [
       "                    longitude  latitude  housing_median_age  total_rooms  \\\n",
       "longitude                 1.0      -0.9                -0.1          0.0   \n",
       "latitude                 -0.9       1.0                 0.0         -0.0   \n",
       "housing_median_age       -0.1       0.0                 1.0         -0.4   \n",
       "total_rooms               0.0      -0.0                -0.4          1.0   \n",
       "total_bedrooms            0.1      -0.1                -0.3          0.9   \n",
       "population                0.1      -0.1                -0.3          0.9   \n",
       "households                0.1      -0.1                -0.3          0.9   \n",
       "median_income            -0.0      -0.1                -0.1          0.2   \n",
       "median_house_value       -0.0      -0.1                 0.1          0.1   \n",
       "rooms_per_person         -0.1       0.1                -0.1          0.1   \n",
       "\n",
       "                    total_bedrooms  population  households  median_income  \\\n",
       "longitude                      0.1         0.1         0.1           -0.0   \n",
       "latitude                      -0.1        -0.1        -0.1           -0.1   \n",
       "housing_median_age            -0.3        -0.3        -0.3           -0.1   \n",
       "total_rooms                    0.9         0.9         0.9            0.2   \n",
       "total_bedrooms                 1.0         0.9         1.0           -0.0   \n",
       "population                     0.9         1.0         0.9           -0.0   \n",
       "households                     1.0         0.9         1.0            0.0   \n",
       "median_income                 -0.0        -0.0         0.0            1.0   \n",
       "median_house_value             0.0        -0.0         0.1            0.7   \n",
       "rooms_per_person               0.0        -0.1        -0.0            0.2   \n",
       "\n",
       "                    median_house_value  rooms_per_person  \n",
       "longitude                         -0.0              -0.1  \n",
       "latitude                          -0.1               0.1  \n",
       "housing_median_age                 0.1              -0.1  \n",
       "total_rooms                        0.1               0.1  \n",
       "total_bedrooms                     0.0               0.0  \n",
       "population                        -0.0              -0.1  \n",
       "households                         0.1              -0.0  \n",
       "median_income                      0.7               0.2  \n",
       "median_house_value                 1.0               0.2  \n",
       "rooms_per_person                   0.2               1.0  "
      ]
     },
     "execution_count": 50,
     "metadata": {},
     "output_type": "execute_result"
    }
   ],
   "source": [
    "training_df.corr()"
   ]
  }
 ],
 "metadata": {
  "kernelspec": {
   "display_name": "Python 3 (ipykernel)",
   "language": "python",
   "name": "python3"
  },
  "language_info": {
   "codemirror_mode": {
    "name": "ipython",
    "version": 3
   },
   "file_extension": ".py",
   "mimetype": "text/x-python",
   "name": "python",
   "nbconvert_exporter": "python",
   "pygments_lexer": "ipython3",
   "version": "3.10.9"
  }
 },
 "nbformat": 4,
 "nbformat_minor": 5
}
