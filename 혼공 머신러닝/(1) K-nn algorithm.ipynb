{
 "cells": [
  {
   "cell_type": "markdown",
   "id": "4817a6a1",
   "metadata": {},
   "source": [
    "참고:혼자 공부하는 머신러닝 + 딥러닝(한빛미디어)"
   ]
  },
  {
   "cell_type": "markdown",
   "id": "27226d7d",
   "metadata": {},
   "source": [
    "### scikit-learn\n",
    "\n",
    "+ `KNeighborclassifier()`\n",
    "+ `fit()`: 훈련할 특성과 label을 전달하여 모델을 훈련시키는 매서드\n",
    "+ `predict()`: 새로운 데이터를 전달했을 때 해당 데이터의 label을 예측하는 매서드\n",
    "+ `score()`: 모델이 예측한 정확도를 비율로 반환"
   ]
  },
  {
   "cell_type": "markdown",
   "id": "3dd08d12",
   "metadata": {},
   "source": [
    "# K-최근접 이웃(K-nearest neighbors): K-NN\n",
    "\n",
    "* 단순한 알고리즘이기 때문에 속도가 빠르다.\n",
    "* 어떤 데이터의 답을 구할때 `근접한 주위 데이터` 즉, `가장 가까운 직선거리`로 현재 데이터를 판단하는 알고리즘.\n",
    "\n",
    "k-nn알고리즘의 단점: 데이터가 아주 많을때 사용이 곤란할 수 있다.\n",
    "\n",
    "* 참고하는 데이터 수는 5개가 기본으로 설정되어 있다. \n",
    "\n",
    "참고 데이터 수를 49개로 바꾸고 싶다면 `kn49 = KNeighborsClassifier(n_neighbors = 49)`로 객체 할당\n",
    "\n"
   ]
  },
  {
   "cell_type": "markdown",
   "id": "bcb3c353",
   "metadata": {},
   "source": [
    "##  데이터 전처리"
   ]
  },
  {
   "cell_type": "code",
   "execution_count": 1,
   "id": "67fe8bd2",
   "metadata": {},
   "outputs": [],
   "source": [
    "# 빙어 데이터\n",
    "bream_length = [25.4, 26.3, 26.5, 29.0, 29.0, 29.7, 29.7, 30.0, 30.0, 30.7, 31.0, 31.0, \n",
    "                31.5, 32.0, 32.0, 32.0, 33.0, 33.0, 33.5, 33.5, 34.0, 34.0, 34.5, 35.0, \n",
    "                35.0, 35.0, 35.0, 36.0, 36.0, 37.0, 38.5, 38.5, 39.5, 41.0, 41.0]\n",
    "bream_weight = [242.0, 290.0, 340.0, 363.0, 430.0, 450.0, 500.0, 390.0, 450.0, 500.0, 475.0, 500.0, \n",
    "                500.0, 340.0, 600.0, 600.0, 700.0, 700.0, 610.0, 650.0, 575.0, 685.0, 620.0, 680.0, \n",
    "                700.0, 725.0, 720.0, 714.0, 850.0, 1000.0, 920.0, 955.0, 925.0, 975.0, 950.0]"
   ]
  },
  {
   "cell_type": "code",
   "execution_count": 3,
   "id": "bf5e6dbe",
   "metadata": {},
   "outputs": [],
   "source": [
    "# 도미 데이터\n",
    "smelt_length = [9.8, 10.5, 10.6, 11.0, 11.2, 11.3, 11.8, 11.8, 12.0, 12.2, 12.4, 13.0, 14.3, 15.0]\n",
    "smelt_weight = [6.7, 7.5, 7.0, 9.7, 9.8, 8.7, 10.0, 9.9, 9.8, 12.2, 13.4, 12.2, 19.7, 19.9]"
   ]
  },
  {
   "cell_type": "code",
   "execution_count": null,
   "id": "488e4f58",
   "metadata": {},
   "outputs": [],
   "source": [
    "import matplotlib.pyplot as plt"
   ]
  },
  {
   "cell_type": "code",
   "execution_count": 5,
   "id": "3d0f03ee",
   "metadata": {},
   "outputs": [
    {
     "data": {
      "image/png": "[encoded data removed]",
      "text/plain": [
       "<Figure size 640x480 with 1 Axes>"
      ]
     },
     "metadata": {},
     "output_type": "display_data"
    }
   ],
   "source": [
    "plt.scatter(bream_length,bream_weight)\n",
    "plt.scatter(smelt_length,smelt_weight)\n",
    "plt.xlabel(\"lengh\")\n",
    "plt.ylabel(\"weight\")\n",
    "plt.show()"
   ]
  },
  {
   "cell_type": "code",
   "execution_count": 11,
   "id": "c81f2ac2",
   "metadata": {},
   "outputs": [
    {
     "data": {
      "text/plain": [
       "[[25.4, 242.0], [26.3, 290.0], [26.5, 340.0], [29.0, 363.0], [29.0, 430.0]]"
      ]
     },
     "execution_count": 11,
     "metadata": {},
     "output_type": "execute_result"
    }
   ],
   "source": [
    "# 값을 합치는 게 아니라 하나의 리스트로 만들어주는 작업\n",
    "# length 리스트와 weight 리스트\n",
    "\n",
    "length = bream_length + smelt_length\n",
    "weight = bream_weight + smelt_length\n",
    "\n",
    "fishdata = [[l,w] for l,w in zip(length,weight)]\n",
    "fishdata[:5] # scikit_learn에 넣기위해 2차원 리스트로 만듦"
   ]
  },
  {
   "cell_type": "markdown",
   "id": "54ac8e48",
   "metadata": {},
   "source": [
    "(+) 다음의 과정을 zip()이 아닌 numpy를 사용하여 구현할 수 있다.\n",
    "\n",
    "\n",
    "fishdata = `np.column_stack((length, weight))`"
   ]
  },
  {
   "cell_type": "code",
   "execution_count": 12,
   "id": "7ede906c",
   "metadata": {},
   "outputs": [
    {
     "name": "stdout",
     "output_type": "stream",
     "text": [
      "[1, 1, 1, 1, 1, 1, 1, 1, 1, 1, 1, 1, 1, 1, 1, 1, 1, 1, 1, 1, 1, 1, 1, 1, 1, 1, 1, 1, 1, 1, 1, 1, 1, 1, 1, 0, 0, 0, 0, 0, 0, 0, 0, 0, 0, 0, 0, 0, 0]\n"
     ]
    }
   ],
   "source": [
    "# 2차원 리스트의 데이터가 도미[1]인지 빙어[0]인지 지정\n",
    "\n",
    "fish_target = [1]*35 + [0]*14\n",
    "print(fish_target)"
   ]
  },
  {
   "cell_type": "markdown",
   "id": "f6d47c5d",
   "metadata": {},
   "source": [
    "(+) 다음의 과정을 numpy를 사용하여 구현할 수 있다.\n",
    "\n",
    "\n",
    "fish_target = `np.concatenate((np.ones(35), np.zeors(14)))`\n",
    "\n",
    "\n",
    "* numpy로 처리하면 데이터를 list가 아닌 배열로 처리하기 때문에 데이터가 큰 작업에 효율적이다."
   ]
  },
  {
   "cell_type": "markdown",
   "id": "9a50c73a",
   "metadata": {},
   "source": [
    "##  사이킷런을 사용하여 k-nn구현하기\n",
    "\n",
    "k-최근접 알고리즘을 이용해 어던 데이터가 도미인지 방어인지 구분하는 머신러닝 프로그램을 만들어보자."
   ]
  },
  {
   "cell_type": "code",
   "execution_count": 62,
   "id": "0e2f686e",
   "metadata": {},
   "outputs": [],
   "source": [
    "from sklearn.neighbors import KNeighborsClassifier"
   ]
  },
  {
   "cell_type": "code",
   "execution_count": 16,
   "id": "f7c857cb",
   "metadata": {
    "scrolled": true
   },
   "outputs": [
    {
     "data": {
      "text/html": [
       "<style>#sk-container-id-1 {color: black;background-color: white;}#sk-container-id-1 pre{padding: 0;}#sk-container-id-1 div.sk-toggleable {background-color: white;}#sk-container-id-1 label.sk-toggleable__label {cursor: pointer;display: block;width: 100%;margin-bottom: 0;padding: 0.3em;box-sizing: border-box;text-align: center;}#sk-container-id-1 label.sk-toggleable__label-arrow:before {content: \"▸\";float: left;margin-right: 0.25em;color: #696969;}#sk-container-id-1 label.sk-toggleable__label-arrow:hover:before {color: black;}#sk-container-id-1 div.sk-estimator:hover label.sk-toggleable__label-arrow:before {color: black;}#sk-container-id-1 div.sk-toggleable__content {max-height: 0;max-width: 0;overflow: hidden;text-align: left;background-color: #f0f8ff;}#sk-container-id-1 div.sk-toggleable__content pre {margin: 0.2em;color: black;border-radius: 0.25em;background-color: #f0f8ff;}#sk-container-id-1 input.sk-toggleable__control:checked~div.sk-toggleable__content {max-height: 200px;max-width: 100%;overflow: auto;}#sk-container-id-1 input.sk-toggleable__control:checked~label.sk-toggleable__label-arrow:before {content: \"▾\";}#sk-container-id-1 div.sk-estimator input.sk-toggleable__control:checked~label.sk-toggleable__label {background-color: #d4ebff;}#sk-container-id-1 div.sk-label input.sk-toggleable__control:checked~label.sk-toggleable__label {background-color: #d4ebff;}#sk-container-id-1 input.sk-hidden--visually {border: 0;clip: rect(1px 1px 1px 1px);clip: rect(1px, 1px, 1px, 1px);height: 1px;margin: -1px;overflow: hidden;padding: 0;position: absolute;width: 1px;}#sk-container-id-1 div.sk-estimator {font-family: monospace;background-color: #f0f8ff;border: 1px dotted black;border-radius: 0.25em;box-sizing: border-box;margin-bottom: 0.5em;}#sk-container-id-1 div.sk-estimator:hover {background-color: #d4ebff;}#sk-container-id-1 div.sk-parallel-item::after {content: \"\";width: 100%;border-bottom: 1px solid gray;flex-grow: 1;}#sk-container-id-1 div.sk-label:hover label.sk-toggleable__label {background-color: #d4ebff;}#sk-container-id-1 div.sk-serial::before {content: \"\";position: absolute;border-left: 1px solid gray;box-sizing: border-box;top: 0;bottom: 0;left: 50%;z-index: 0;}#sk-container-id-1 div.sk-serial {display: flex;flex-direction: column;align-items: center;background-color: white;padding-right: 0.2em;padding-left: 0.2em;position: relative;}#sk-container-id-1 div.sk-item {position: relative;z-index: 1;}#sk-container-id-1 div.sk-parallel {display: flex;align-items: stretch;justify-content: center;background-color: white;position: relative;}#sk-container-id-1 div.sk-item::before, #sk-container-id-1 div.sk-parallel-item::before {content: \"\";position: absolute;border-left: 1px solid gray;box-sizing: border-box;top: 0;bottom: 0;left: 50%;z-index: -1;}#sk-container-id-1 div.sk-parallel-item {display: flex;flex-direction: column;z-index: 1;position: relative;background-color: white;}#sk-container-id-1 div.sk-parallel-item:first-child::after {align-self: flex-end;width: 50%;}#sk-container-id-1 div.sk-parallel-item:last-child::after {align-self: flex-start;width: 50%;}#sk-container-id-1 div.sk-parallel-item:only-child::after {width: 0;}#sk-container-id-1 div.sk-dashed-wrapped {border: 1px dashed gray;margin: 0 0.4em 0.5em 0.4em;box-sizing: border-box;padding-bottom: 0.4em;background-color: white;}#sk-container-id-1 div.sk-label label {font-family: monospace;font-weight: bold;display: inline-block;line-height: 1.2em;}#sk-container-id-1 div.sk-label-container {text-align: center;}#sk-container-id-1 div.sk-container {/* jupyter's `normalize.less` sets `[hidden] { display: none; }` but bootstrap.min.css set `[hidden] { display: none !important; }` so we also need the `!important` here to be able to override the default hidden behavior on the sphinx rendered scikit-learn.org. See: https://github.com/scikit-learn/scikit-learn/issues/21755 */display: inline-block !important;position: relative;}#sk-container-id-1 div.sk-text-repr-fallback {display: none;}</style><div id=\"sk-container-id-1\" class=\"sk-top-container\"><div class=\"sk-text-repr-fallback\"><pre>KNeighborsClassifier()</pre><b>In a Jupyter environment, please rerun this cell to show the HTML representation or trust the notebook. <br />On GitHub, the HTML representation is unable to render, please try loading this page with nbviewer.org.</b></div><div class=\"sk-container\" hidden><div class=\"sk-item\"><div class=\"sk-estimator sk-toggleable\"><input class=\"sk-toggleable__control sk-hidden--visually\" id=\"sk-estimator-id-1\" type=\"checkbox\" checked><label for=\"sk-estimator-id-1\" class=\"sk-toggleable__label sk-toggleable__label-arrow\">KNeighborsClassifier</label><div class=\"sk-toggleable__content\"><pre>KNeighborsClassifier()</pre></div></div></div></div></div>"
      ],
      "text/plain": [
       "KNeighborsClassifier()"
      ]
     },
     "execution_count": 16,
     "metadata": {},
     "output_type": "execute_result"
    }
   ],
   "source": [
    "#k- 최근접 이웃 알고리즘 모델 만들기\n",
    "\n",
    "\n",
    "kn = KNeighborsClassifier()\n",
    "kn.fit(fishdata, fish_target)"
   ]
  },
  {
   "cell_type": "code",
   "execution_count": 18,
   "id": "a34b80f8",
   "metadata": {},
   "outputs": [
    {
     "data": {
      "text/plain": [
       "1.0"
      ]
     },
     "execution_count": 18,
     "metadata": {},
     "output_type": "execute_result"
    }
   ],
   "source": [
    "# 모델 성능 평가\n",
    "\n",
    "kn.score(fishdata, fish_target)    # 정확도"
   ]
  },
  {
   "cell_type": "markdown",
   "id": "06328e8b",
   "metadata": {},
   "source": [
    "같은 데이터 fishdata를 넣어주기 때문에 모델이 모두 fish_target을 맞춰 1를 반환."
   ]
  },
  {
   "cell_type": "code",
   "execution_count": null,
   "id": "c7a511fc",
   "metadata": {},
   "outputs": [],
   "source": [
    "새로운 데이터의 정답 예측: `predict()` 사용"
   ]
  },
  {
   "cell_type": "code",
   "execution_count": 23,
   "id": "d00aea69",
   "metadata": {
    "scrolled": true
   },
   "outputs": [
    {
     "data": {
      "image/png": "[encoded data removed]",
      "text/plain": [
       "<Figure size 640x480 with 1 Axes>"
      ]
     },
     "metadata": {},
     "output_type": "display_data"
    }
   ],
   "source": [
    "plt.scatter(bream_length,bream_weight)\n",
    "plt.scatter(smelt_length,smelt_weight)\n",
    "plt.scatter(30,600,marker='^')\n",
    "plt.xlabel(\"lengh\")\n",
    "plt.ylabel(\"weight\")\n",
    "plt.show()"
   ]
  },
  {
   "cell_type": "code",
   "execution_count": 24,
   "id": "3daed957",
   "metadata": {},
   "outputs": [
    {
     "data": {
      "text/plain": [
       "array([1])"
      ]
     },
     "execution_count": 24,
     "metadata": {},
     "output_type": "execute_result"
    }
   ],
   "source": [
    "kn.predict([[30,600]])\n",
    "\n",
    "# 도미라고 예측"
   ]
  },
  {
   "cell_type": "markdown",
   "id": "9bd31f16",
   "metadata": {},
   "source": [
    "# train_data와 test_data로 나눠서 사용하기\n",
    "\n",
    "\n",
    "#### (1)  `numpy` 사용하여 데이터셋 나누기\n",
    "\n",
    "- `seed()`: 난수생성을 위한 초깃값 설정. 초깃값이 같으면 동일한 난수 생성\n",
    "- `arange()`: 0부터 n-1 까지의 1의 간격의 배열을 반환\n",
    " "
   ]
  },
  {
   "cell_type": "code",
   "execution_count": 26,
   "id": "62be8f86",
   "metadata": {},
   "outputs": [],
   "source": [
    "import numpy as np"
   ]
  },
  {
   "cell_type": "code",
   "execution_count": 55,
   "id": "f03148d4",
   "metadata": {},
   "outputs": [
    {
     "name": "stdout",
     "output_type": "stream",
     "text": [
      "(49, 2)\n"
     ]
    }
   ],
   "source": [
    "input_arr = np.array(fishdata)\n",
    "target_arr = np.array(fish_target)\n",
    "\n",
    "print(input_arr.shape) # 샘플 수, 특성 수"
   ]
  },
  {
   "cell_type": "code",
   "execution_count": 56,
   "id": "1c57777b",
   "metadata": {},
   "outputs": [
    {
     "data": {
      "text/plain": [
       "[[25.4, 242.0], [26.3, 290.0], [26.5, 340.0], [29.0, 363.0], [29.0, 430.0]]"
      ]
     },
     "execution_count": 56,
     "metadata": {},
     "output_type": "execute_result"
    }
   ],
   "source": [
    "fishdata[:5]"
   ]
  },
  {
   "cell_type": "code",
   "execution_count": 57,
   "id": "639bea41",
   "metadata": {},
   "outputs": [
    {
     "data": {
      "text/plain": [
       "array([[ 25.4, 242. ],\n",
       "       [ 26.3, 290. ],\n",
       "       [ 26.5, 340. ],\n",
       "       [ 29. , 363. ],\n",
       "       [ 29. , 430. ]])"
      ]
     },
     "execution_count": 57,
     "metadata": {},
     "output_type": "execute_result"
    }
   ],
   "source": [
    "input_arr[:5]"
   ]
  },
  {
   "cell_type": "code",
   "execution_count": 60,
   "id": "32d4105c",
   "metadata": {},
   "outputs": [
    {
     "data": {
      "image/png": "[encoded data removed]",
      "text/plain": [
       "<Figure size 640x480 with 1 Axes>"
      ]
     },
     "metadata": {},
     "output_type": "display_data"
    }
   ],
   "source": [
    "# 인덱스 순서 섞기\n",
    "np.random.seed(42)   # 랜덤 함수 결과값 고정\n",
    "index = np.arange(49) # 0부터 48까지 1씩 증가 배열 생성\n",
    "np.random.shuffle(index) # 순서 무작위 섞기\n",
    "\n",
    "\n",
    "# train_data\n",
    "train_input = input_arr[index[:35]]\n",
    "train_target = target_arr[index[:35]]\n",
    "\n",
    "# test_data\n",
    "test_input = input_arr[index[35:]]\n",
    "test_target = target_arr[index[35:]]\n",
    "\n",
    "plt.scatter(train_input[:,0],train_input[:,1])\n",
    "plt.scatter(test_input[:,0], test_input[:,1])\n",
    "plt.xlabel(\"length\")\n",
    "plt.ylabel(\"weight\")\n",
    "plt.show()\n",
    "            "
   ]
  },
  {
   "cell_type": "code",
   "execution_count": 64,
   "id": "a9b32854",
   "metadata": {},
   "outputs": [
    {
     "name": "stdout",
     "output_type": "stream",
     "text": [
      "모든 생선을 맞췄습니다. 정확도 1\n"
     ]
    },
    {
     "data": {
      "text/plain": [
       "1.0"
      ]
     },
     "execution_count": 64,
     "metadata": {},
     "output_type": "execute_result"
    }
   ],
   "source": [
    "# 모델 학습\n",
    "\n",
    "kn = KNeighborsClassifier()\n",
    "kn.fit(train_input,train_target)\n",
    "\n",
    "\n",
    "print(\"모든 생선을 맞췄습니다. 정확도 1\")\n",
    "kn.score(test_input,test_target)\n"
   ]
  },
  {
   "cell_type": "code",
   "execution_count": 67,
   "id": "065a5557",
   "metadata": {
    "scrolled": true
   },
   "outputs": [
    {
     "name": "stdout",
     "output_type": "stream",
     "text": [
      "모델의 예측값: [0 0 1 0 1 1 1 0 1 1 0 1 1 0]\n",
      "실제 관측값:   [0 0 1 0 1 1 1 0 1 1 0 1 1 0]\n"
     ]
    }
   ],
   "source": [
    "print(f\"모델의 예측값: {kn.predict(test_input)}\")\n",
    "print(f\"실제 관측값:   {test_target}\")\n"
   ]
  },
  {
   "cell_type": "markdown",
   "id": "c27f9d94",
   "metadata": {},
   "source": [
    "### (2) 사이킷런으로 데이터셋 나누기\n",
    "\n",
    "from sklearn.model_selection import `train_test_split`"
   ]
  },
  {
   "cell_type": "code",
   "execution_count": null,
   "id": "98d21e80",
   "metadata": {},
   "outputs": [],
   "source": [
    "# 데이터셋을 list가 아닌 배열로 처리"
   ]
  },
  {
   "cell_type": "code",
   "execution_count": 80,
   "id": "d37ab2ab",
   "metadata": {},
   "outputs": [],
   "source": [
    "fishdata = np.column_stack((length, weight))\n",
    "fish_target = np.concatenate((np.ones(35),np.zeros(14)))"
   ]
  },
  {
   "cell_type": "code",
   "execution_count": 71,
   "id": "6d088f7c",
   "metadata": {},
   "outputs": [],
   "source": [
    "from sklearn.model_selection import train_test_split"
   ]
  },
  {
   "cell_type": "code",
   "execution_count": 84,
   "id": "039f7898",
   "metadata": {},
   "outputs": [],
   "source": [
    "# random_state는 random.seed()와 유사 \n",
    "# stratify: 해당 옵션에 할당하는 클래스 비율에 맞게 데이터셋을 나눈다. \n",
    "\n",
    "train_input,test_input, train_target, test_target = train_test_split(fishdata, \n",
    "                                                                     fish_target,\n",
    "                                                                     stratify = fish_target,\n",
    "                                                                     random_state = 42)\n"
   ]
  },
  {
   "cell_type": "code",
   "execution_count": 85,
   "id": "c2460fd7",
   "metadata": {},
   "outputs": [
    {
     "name": "stdout",
     "output_type": "stream",
     "text": [
      "(36, 2) (13, 2)\n"
     ]
    }
   ],
   "source": [
    "# 기본적으로 25%를 테스트 세트로 떼어냄\n",
    "\n",
    "print(train_input.shape, test_input.shape)"
   ]
  },
  {
   "cell_type": "code",
   "execution_count": null,
   "id": "463c3d4b",
   "metadata": {},
   "outputs": [],
   "source": []
  }
 ],
 "metadata": {
  "kernelspec": {
   "display_name": "Python 3 (ipykernel)",
   "language": "python",
   "name": "python3"
  },
  "language_info": {
   "codemirror_mode": {
    "name": "ipython",
    "version": 3
   },
   "file_extension": ".py",
   "mimetype": "text/x-python",
   "name": "python",
   "nbconvert_exporter": "python",
   "pygments_lexer": "ipython3",
   "version": "3.10.9"
  }
 },
 "nbformat": 4,
 "nbformat_minor": 5
}
