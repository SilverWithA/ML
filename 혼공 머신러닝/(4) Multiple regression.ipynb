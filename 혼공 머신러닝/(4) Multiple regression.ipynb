{
 "cells": [
  {
   "cell_type": "markdown",
   "id": "bedce241",
   "metadata": {},
   "source": [
    "# 다중 회귀(multiple Regression)\n",
    "\n",
    "여러 개의 특성을 이용하는 회귀 모델\n",
    "\n",
    "* `feature engineering`: 기존 feature을 이용해 새로운 feature을 만드는 것."
   ]
  },
  {
   "cell_type": "code",
   "execution_count": 10,
   "id": "64889a22",
   "metadata": {
    "scrolled": true
   },
   "outputs": [
    {
     "data": {
      "text/plain": [
       "array([[ 8.4 ,  2.11,  1.41],\n",
       "       [13.7 ,  3.53,  2.  ],\n",
       "       [15.  ,  3.82,  2.43],\n",
       "       [16.2 ,  4.59,  2.63],\n",
       "       [17.4 ,  4.59,  2.94]])"
      ]
     },
     "execution_count": 10,
     "metadata": {},
     "output_type": "execute_result"
    }
   ],
   "source": [
    "import pandas as pd\n",
    "\n",
    "df = pd.read_csv('https://bit.ly/perch_csv_data')\n",
    "perch_full = df.to_numpy() # 넘파이 배열로 변환\n",
    "perch_full[:5]"
   ]
  },
  {
   "cell_type": "code",
   "execution_count": 11,
   "id": "4a3c0222",
   "metadata": {},
   "outputs": [],
   "source": [
    "import numpy as np\n",
    "\n",
    "perch_weight = np.array([5.9, 32.0, 40.0, 51.5, 70.0, 100.0, 78.0, 80.0, 85.0, 85.0, 110.0,\n",
    "       115.0, 125.0, 130.0, 120.0, 120.0, 130.0, 135.0, 110.0, 130.0,\n",
    "       150.0, 145.0, 150.0, 170.0, 225.0, 145.0, 188.0, 180.0, 197.0,\n",
    "       218.0, 300.0, 260.0, 265.0, 250.0, 250.0, 300.0, 320.0, 514.0,\n",
    "       556.0, 840.0, 685.0, 700.0, 700.0, 690.0, 900.0, 650.0, 820.0,\n",
    "       850.0, 900.0, 1015.0, 820.0, 1100.0, 1000.0, 1100.0, 1000.0,\n",
    "       1000.0])"
   ]
  },
  {
   "cell_type": "code",
   "execution_count": 16,
   "id": "b4475969",
   "metadata": {},
   "outputs": [
    {
     "name": "stdout",
     "output_type": "stream",
     "text": [
      "(56,) (56, 3)\n"
     ]
    }
   ],
   "source": [
    "print(perch_weight.shape, perch_full.shape)"
   ]
  },
  {
   "cell_type": "code",
   "execution_count": 24,
   "id": "3bc08405",
   "metadata": {},
   "outputs": [],
   "source": [
    "from sklearn.model_selection import train_test_split\n",
    "\n",
    "train_input, test_input, train_target, test_target = train_test_split(perch_full,\n",
    "                                                                     perch_weight,\n",
    "                                                                     random_state = 42)"
   ]
  },
  {
   "cell_type": "markdown",
   "id": "89828d35",
   "metadata": {},
   "source": [
    "* `transform()`: 사이킷런에서 제공하는 변환기\n",
    "\n",
    "\n",
    "2개의 원소의 특징을 가지고 있는 샘플 [2,3]이 6개의 특성을 가진 [1. 2. 3. 4. 6. 9.]샘플이 되었다.\n",
    "\n",
    "각 특성의 제곱항과 서로를 곱한 항을 추가한 것. 이때 1이 추가되는데 이는 선형 방정식의 절편에 곱해지는 값으로 선형모델에서는 자동으로 절편을 추가하므로 `include_bias = False`로 지정하여 trasform에서 빼줄 수 있다"
   ]
  },
  {
   "cell_type": "code",
   "execution_count": 5,
   "id": "808e1700",
   "metadata": {},
   "outputs": [],
   "source": [
    "from sklearn.preprocessing import PolynomialFeatures"
   ]
  },
  {
   "cell_type": "code",
   "execution_count": 6,
   "id": "029dab64",
   "metadata": {},
   "outputs": [
    {
     "name": "stdout",
     "output_type": "stream",
     "text": [
      "[[1. 2. 3. 4. 6. 9.]]\n"
     ]
    }
   ],
   "source": [
    "poly = PolynomialFeatures()\n",
    "\n",
    "poly.fit([[2,3]])\n",
    "print(poly.transform([[2,3]]))"
   ]
  },
  {
   "cell_type": "code",
   "execution_count": 7,
   "id": "183d1097",
   "metadata": {},
   "outputs": [
    {
     "name": "stdout",
     "output_type": "stream",
     "text": [
      "[[2. 3. 4. 6. 9.]]\n"
     ]
    }
   ],
   "source": [
    "poly = PolynomialFeatures(include_bias = False)\n",
    "\n",
    "poly.fit([[2,3]])\n",
    "print(poly.transform([[2,3]]))"
   ]
  },
  {
   "cell_type": "code",
   "execution_count": 14,
   "id": "8306865b",
   "metadata": {},
   "outputs": [
    {
     "name": "stdout",
     "output_type": "stream",
     "text": [
      "(42, 9)\n"
     ]
    }
   ],
   "source": [
    "poly = PolynomialFeatures(include_bias=False)\n",
    "\n",
    "poly.fit(train_input)\n",
    "train_poly = poly.transform(train_input)\n",
    "print(train_poly.shape)"
   ]
  },
  {
   "cell_type": "code",
   "execution_count": 18,
   "id": "413157bf",
   "metadata": {},
   "outputs": [
    {
     "data": {
      "text/plain": [
       "array(['x0', 'x1', 'x2', 'x0^2', 'x0 x1', 'x0 x2', 'x1^2', 'x1 x2',\n",
       "       'x2^2'], dtype=object)"
      ]
     },
     "execution_count": 18,
     "metadata": {},
     "output_type": "execute_result"
    }
   ],
   "source": [
    "poly.get_feature_names_out() # 각 특성이 어떤 입력 조합으로 만들어줬는지 알려줌"
   ]
  },
  {
   "cell_type": "code",
   "execution_count": 25,
   "id": "e1979299",
   "metadata": {},
   "outputs": [],
   "source": [
    "test_poly = poly.transform(test_input)"
   ]
  },
  {
   "cell_type": "code",
   "execution_count": 20,
   "id": "aa3ae008",
   "metadata": {},
   "outputs": [],
   "source": [
    "from sklearn.linear_model import LinearRegression"
   ]
  },
  {
   "cell_type": "code",
   "execution_count": 27,
   "id": "817dede6",
   "metadata": {},
   "outputs": [
    {
     "name": "stdout",
     "output_type": "stream",
     "text": [
      "훈련 데이터에 대한 예측 정확도:  0.9903183436982126\n",
      "테스트 데이터에 대한 예측 정확도:  0.9714559911594143\n"
     ]
    }
   ],
   "source": [
    "lr = LinearRegression()\n",
    "\n",
    "lr.fit(train_poly, train_target)\n",
    "print(\"훈련 데이터에 대한 예측 정확도: \",lr.score(train_poly, train_target))\n",
    "print(\"테스트 데이터에 대한 예측 정확도: \",lr.score(test_poly, test_target))"
   ]
  },
  {
   "cell_type": "markdown",
   "id": "33cff556",
   "metadata": {},
   "source": [
    "특성을 추가하여(두께) 사용하고 특성 공학(feature engineering)을 통해 특성을 추가하였더니 `선형 회귀 능력이 매우 강해지는 것`을 확인할 수 있다. \n",
    "\n",
    "\n",
    "* 이때 3제곱항, 4제곱항을 한 특성을 더 추가하면?\n",
    "\n",
    "다음 degree =5 로 설정하여 5제곱항까지 특성에 추가되도록 해보자.\n"
   ]
  },
  {
   "cell_type": "code",
   "execution_count": 30,
   "id": "c61050b6",
   "metadata": {},
   "outputs": [
    {
     "data": {
      "text/plain": [
       "(42, 55)"
      ]
     },
     "execution_count": 30,
     "metadata": {},
     "output_type": "execute_result"
    }
   ],
   "source": [
    "poly = PolynomialFeatures(degree =5, include_bias = False)\n",
    "\n",
    "poly.fit(train_input)\n",
    "train_poly = poly.transform(train_input)\n",
    "test_poly = poly.transform(test_input)\n",
    "\n",
    "train_poly.shape # 특성의 개수가 55개"
   ]
  },
  {
   "cell_type": "code",
   "execution_count": 32,
   "id": "5274e1ed",
   "metadata": {},
   "outputs": [
    {
     "data": {
      "text/plain": [
       "0.999999999998714"
      ]
     },
     "execution_count": 32,
     "metadata": {},
     "output_type": "execute_result"
    }
   ],
   "source": [
    "lr.fit(train_poly,train_target)\n",
    "lr.score(train_poly, train_target)\n"
   ]
  },
  {
   "cell_type": "code",
   "execution_count": 33,
   "id": "691aa4d5",
   "metadata": {},
   "outputs": [
    {
     "data": {
      "text/plain": [
       "-144.4066764700865"
      ]
     },
     "execution_count": 33,
     "metadata": {},
     "output_type": "execute_result"
    }
   ],
   "source": [
    "lr.score(test_poly,test_target)"
   ]
  },
  {
   "cell_type": "markdown",
   "id": "b00e32c1",
   "metadata": {},
   "source": [
    "훈련 데이터에 관해서는 선형 모델이 매우 강력해지지만 과대적합 문제가 발생할 수 있다."
   ]
  },
  {
   "cell_type": "markdown",
   "id": "05ac0b2b",
   "metadata": {},
   "source": [
    "# 규제\n",
    "\n",
    "모델이 훈련 데이터를 너무 과도하게 학습하지 못하도록 규제하는 것을 말한다.선형 회귀 모델의 경우 특성에 곱해지는 계수(기울기) 크기를 작게하는 것을 말한다."
   ]
  },
  {
   "cell_type": "code",
   "execution_count": null,
   "id": "d766710a",
   "metadata": {},
   "outputs": [],
   "source": []
  }
 ],
 "metadata": {
  "kernelspec": {
   "display_name": "Python 3 (ipykernel)",
   "language": "python",
   "name": "python3"
  },
  "language_info": {
   "codemirror_mode": {
    "name": "ipython",
    "version": 3
   },
   "file_extension": ".py",
   "mimetype": "text/x-python",
   "name": "python",
   "nbconvert_exporter": "python",
   "pygments_lexer": "ipython3",
   "version": "3.10.9"
  }
 },
 "nbformat": 4,
 "nbformat_minor": 5
}
