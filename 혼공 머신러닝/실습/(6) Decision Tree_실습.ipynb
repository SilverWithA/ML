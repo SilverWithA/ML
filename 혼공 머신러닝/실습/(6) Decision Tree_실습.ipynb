{
 "cells": [
  {
   "cell_type": "markdown",
   "id": "bfb11a40",
   "metadata": {},
   "source": [
    "# Decision Tree(결정 트리)\n",
    "\n",
    "\n",
    "\n",
    "* #### `정보균일도`\n",
    "+ (1) `       `\n",
    "+ (2) `       `\n",
    "\n",
    "* #### `스케일링 및 정규화 필수 여부`:\n",
    "\n",
    "* #### 결정 트리의 파라미터\n",
    "- `           `\n",
    "- `           `\n",
    "- `           `\n",
    "- `           `\n",
    "- `           `\n",
    "\n"
   ]
  },
  {
   "cell_type": "code",
   "execution_count": null,
   "id": "92d26205",
   "metadata": {},
   "outputs": [],
   "source": [
    "import pandas as pd\n",
    "import numpy as np\n",
    "import matplotlib.pyplot as plt"
   ]
  },
  {
   "cell_type": "code",
   "execution_count": null,
   "id": "40ce4a60",
   "metadata": {},
   "outputs": [],
   "source": [
    "# 데이터 가져오기\n",
    "wine = pd.read_csv(\"https://bit.ly/wine_csv_data\")\n",
    "\n",
    "\n",
    "\n",
    "# data = wine[['alcohol','sugar','pH']].\n",
    "# target = wine['class']."
   ]
  },
  {
   "cell_type": "code",
   "execution_count": null,
   "id": "2ba96acc",
   "metadata": {},
   "outputs": [],
   "source": [
    "# 훈련-테스트 데이터 나누기\n",
    "from sklearn.model_selection import train_test_split\n",
    "\n",
    "\n"
   ]
  },
  {
   "cell_type": "code",
   "execution_count": null,
   "id": "7bd70861",
   "metadata": {},
   "outputs": [],
   "source": [
    "# 모듈 임포트\n",
    "from sklearn.tree import "
   ]
  },
  {
   "cell_type": "code",
   "execution_count": null,
   "id": "18b1182a",
   "metadata": {},
   "outputs": [],
   "source": [
    "# 객체 할당 및 예측 정확도 확인하기\n",
    "\n",
    "\n",
    "# 결정 트리\n",
    "dt1 = \n",
    "\n",
    "\n",
    "print(\"훈련 세트의 예측 정확도: \",)\n",
    "print(\"테스트 세트의 예측 정확도: \",)\n",
    "\n"
   ]
  },
  {
   "cell_type": "code",
   "execution_count": null,
   "id": "f448e360",
   "metadata": {},
   "outputs": [],
   "source": [
    "# plot_tree 그리기"
   ]
  },
  {
   "cell_type": "markdown",
   "id": "3956636b",
   "metadata": {},
   "source": [
    "# 가지치기\n",
    "\n",
    "* 가지치기의 `장점`과 `단점`"
   ]
  },
  {
   "cell_type": "code",
   "execution_count": null,
   "id": "a100ec5d",
   "metadata": {},
   "outputs": [],
   "source": [
    "dt2\n",
    "\n",
    "print(\"훈련 세트의 예측 정확도: \",)\n",
    "print(\"테스트 세트의 예측 정확도: \",)"
   ]
  },
  {
   "cell_type": "markdown",
   "id": "6c9491ef",
   "metadata": {},
   "source": [
    "# 결정 트리 특성 중요도 시각화"
   ]
  },
  {
   "cell_type": "code",
   "execution_count": null,
   "id": "d9b12b3a",
   "metadata": {},
   "outputs": [],
   "source": [
    "import warnings\n",
    "import seaborn as sns\n",
    "from sklearn.tree import export_graphviz\n",
    "warnings.filterwarnings('ignore')"
   ]
  },
  {
   "cell_type": "code",
   "execution_count": null,
   "id": "0a860f55",
   "metadata": {},
   "outputs": [],
   "source": [
    "feature_names = ['alcohol','sugar','pH']\n",
    "print(feature_names)\n",
    "print(dt.feature_importances_)"
   ]
  }
 ],
 "metadata": {
  "kernelspec": {
   "display_name": "Python 3 (ipykernel)",
   "language": "python",
   "name": "python3"
  },
  "language_info": {
   "codemirror_mode": {
    "name": "ipython",
    "version": 3
   },
   "file_extension": ".py",
   "mimetype": "text/x-python",
   "name": "python",
   "nbconvert_exporter": "python",
   "pygments_lexer": "ipython3",
   "version": "3.10.9"
  }
 },
 "nbformat": 4,
 "nbformat_minor": 5
}
