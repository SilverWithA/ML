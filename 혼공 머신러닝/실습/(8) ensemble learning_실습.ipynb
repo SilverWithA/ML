{
 "cells": [
  {
   "cell_type": "markdown",
   "id": "8ef941d5",
   "metadata": {},
   "source": [
    "# Ensemble learning\n",
    "\n",
    "* #### 앙상블 학습이란: `            `\n",
    "\n",
    "* #### 앙상블 학습 유형\n",
    "* `       ` - 유형 (1) `        ` /(2)`         `\n",
    "* `       `\n",
    "* `       `"
   ]
  },
  {
   "cell_type": "markdown",
   "id": "ae65557f",
   "metadata": {},
   "source": [
    "## `     ` 분류기"
   ]
  },
  {
   "cell_type": "code",
   "execution_count": 1,
   "id": "4fbf315e",
   "metadata": {
    "scrolled": true
   },
   "outputs": [
    {
     "data": {
      "text/html": [
       "<div>\n",
       "<style scoped>\n",
       "    .dataframe tbody tr th:only-of-type {\n",
       "        vertical-align: middle;\n",
       "    }\n",
       "\n",
       "    .dataframe tbody tr th {\n",
       "        vertical-align: top;\n",
       "    }\n",
       "\n",
       "    .dataframe thead th {\n",
       "        text-align: right;\n",
       "    }\n",
       "</style>\n",
       "<table border=\"1\" class=\"dataframe\">\n",
       "  <thead>\n",
       "    <tr style=\"text-align: right;\">\n",
       "      <th></th>\n",
       "      <th>mean radius</th>\n",
       "      <th>mean texture</th>\n",
       "      <th>mean perimeter</th>\n",
       "      <th>mean area</th>\n",
       "      <th>mean smoothness</th>\n",
       "      <th>mean compactness</th>\n",
       "      <th>mean concavity</th>\n",
       "      <th>mean concave points</th>\n",
       "      <th>mean symmetry</th>\n",
       "      <th>mean fractal dimension</th>\n",
       "      <th>...</th>\n",
       "      <th>worst radius</th>\n",
       "      <th>worst texture</th>\n",
       "      <th>worst perimeter</th>\n",
       "      <th>worst area</th>\n",
       "      <th>worst smoothness</th>\n",
       "      <th>worst compactness</th>\n",
       "      <th>worst concavity</th>\n",
       "      <th>worst concave points</th>\n",
       "      <th>worst symmetry</th>\n",
       "      <th>worst fractal dimension</th>\n",
       "    </tr>\n",
       "  </thead>\n",
       "  <tbody>\n",
       "    <tr>\n",
       "      <th>0</th>\n",
       "      <td>17.99</td>\n",
       "      <td>10.38</td>\n",
       "      <td>122.8</td>\n",
       "      <td>1001.0</td>\n",
       "      <td>0.11840</td>\n",
       "      <td>0.27760</td>\n",
       "      <td>0.3001</td>\n",
       "      <td>0.14710</td>\n",
       "      <td>0.2419</td>\n",
       "      <td>0.07871</td>\n",
       "      <td>...</td>\n",
       "      <td>25.38</td>\n",
       "      <td>17.33</td>\n",
       "      <td>184.6</td>\n",
       "      <td>2019.0</td>\n",
       "      <td>0.1622</td>\n",
       "      <td>0.6656</td>\n",
       "      <td>0.7119</td>\n",
       "      <td>0.2654</td>\n",
       "      <td>0.4601</td>\n",
       "      <td>0.11890</td>\n",
       "    </tr>\n",
       "    <tr>\n",
       "      <th>1</th>\n",
       "      <td>20.57</td>\n",
       "      <td>17.77</td>\n",
       "      <td>132.9</td>\n",
       "      <td>1326.0</td>\n",
       "      <td>0.08474</td>\n",
       "      <td>0.07864</td>\n",
       "      <td>0.0869</td>\n",
       "      <td>0.07017</td>\n",
       "      <td>0.1812</td>\n",
       "      <td>0.05667</td>\n",
       "      <td>...</td>\n",
       "      <td>24.99</td>\n",
       "      <td>23.41</td>\n",
       "      <td>158.8</td>\n",
       "      <td>1956.0</td>\n",
       "      <td>0.1238</td>\n",
       "      <td>0.1866</td>\n",
       "      <td>0.2416</td>\n",
       "      <td>0.1860</td>\n",
       "      <td>0.2750</td>\n",
       "      <td>0.08902</td>\n",
       "    </tr>\n",
       "    <tr>\n",
       "      <th>2</th>\n",
       "      <td>19.69</td>\n",
       "      <td>21.25</td>\n",
       "      <td>130.0</td>\n",
       "      <td>1203.0</td>\n",
       "      <td>0.10960</td>\n",
       "      <td>0.15990</td>\n",
       "      <td>0.1974</td>\n",
       "      <td>0.12790</td>\n",
       "      <td>0.2069</td>\n",
       "      <td>0.05999</td>\n",
       "      <td>...</td>\n",
       "      <td>23.57</td>\n",
       "      <td>25.53</td>\n",
       "      <td>152.5</td>\n",
       "      <td>1709.0</td>\n",
       "      <td>0.1444</td>\n",
       "      <td>0.4245</td>\n",
       "      <td>0.4504</td>\n",
       "      <td>0.2430</td>\n",
       "      <td>0.3613</td>\n",
       "      <td>0.08758</td>\n",
       "    </tr>\n",
       "  </tbody>\n",
       "</table>\n",
       "<p>3 rows × 30 columns</p>\n",
       "</div>"
      ],
      "text/plain": [
       "   mean radius  mean texture  mean perimeter  mean area  mean smoothness  \\\n",
       "0        17.99         10.38           122.8     1001.0          0.11840   \n",
       "1        20.57         17.77           132.9     1326.0          0.08474   \n",
       "2        19.69         21.25           130.0     1203.0          0.10960   \n",
       "\n",
       "   mean compactness  mean concavity  mean concave points  mean symmetry  \\\n",
       "0           0.27760          0.3001              0.14710         0.2419   \n",
       "1           0.07864          0.0869              0.07017         0.1812   \n",
       "2           0.15990          0.1974              0.12790         0.2069   \n",
       "\n",
       "   mean fractal dimension  ...  worst radius  worst texture  worst perimeter  \\\n",
       "0                 0.07871  ...         25.38          17.33            184.6   \n",
       "1                 0.05667  ...         24.99          23.41            158.8   \n",
       "2                 0.05999  ...         23.57          25.53            152.5   \n",
       "\n",
       "   worst area  worst smoothness  worst compactness  worst concavity  \\\n",
       "0      2019.0            0.1622             0.6656           0.7119   \n",
       "1      1956.0            0.1238             0.1866           0.2416   \n",
       "2      1709.0            0.1444             0.4245           0.4504   \n",
       "\n",
       "   worst concave points  worst symmetry  worst fractal dimension  \n",
       "0                0.2654          0.4601                  0.11890  \n",
       "1                0.1860          0.2750                  0.08902  \n",
       "2                0.2430          0.3613                  0.08758  \n",
       "\n",
       "[3 rows x 30 columns]"
      ]
     },
     "execution_count": 1,
     "metadata": {},
     "output_type": "execute_result"
    }
   ],
   "source": [
    "import pandas as pd\n",
    "import numpy as np\n",
    "import matplotlib.pyplot as plt\n",
    "\n",
    "\n",
    "from sklearn.model_selection import train_test_split\n",
    "from sklearn.ensemble import VotingClassifier\n",
    "from sklearn.linear_model import LogisticRegression\n",
    "from sklearn.neighbors import KNeighborsClassifier\n",
    "from sklearn.datasets import load_breast_cancer\n",
    "from sklearn.model_selection import train_test_split\n",
    "from sklearn.metrics import accuracy_score\n",
    "\n",
    "\n",
    "cancer = load_breast_cancer()\n",
    "\n",
    "data_df = pd.DataFrame(cancer.data, columns=cancer.feature_names)\n",
    "data_df.head(3)"
   ]
  },
  {
   "cell_type": "markdown",
   "id": "b47419ae",
   "metadata": {},
   "source": [
    "# 배깅\n",
    "# 랜덤 포레스트\n",
    "\n",
    "* 특징과 장점: `     `\n",
    "* 샘플링 방법: `      `"
   ]
  },
  {
   "cell_type": "code",
   "execution_count": null,
   "id": "74268ff6",
   "metadata": {},
   "outputs": [],
   "source": [
    "wine = pd.read_csv(\"https://bit.ly/wine_csv_data\")\n",
    "\n",
    "data = wine[['alcohol','sugar','pH']].to_numpy()\n",
    "target = wine['class'].to_numpy()\n",
    "\n",
    "train_input , test_input, train_target, test_target = train_test_split(data,\n",
    "                                                                      target, test_size = 0.2,\n",
    "                                                                      random_state = 42)"
   ]
  },
  {
   "cell_type": "code",
   "execution_count": null,
   "id": "f0c89995",
   "metadata": {},
   "outputs": [],
   "source": [
    "# 교차검증 수행"
   ]
  },
  {
   "cell_type": "code",
   "execution_count": null,
   "id": "1c7a7242",
   "metadata": {},
   "outputs": [],
   "source": [
    "# 학습/피쳐 중요도 확인"
   ]
  },
  {
   "cell_type": "code",
   "execution_count": null,
   "id": "6396af94",
   "metadata": {},
   "outputs": [],
   "source": [
    "# 예측/평가 수행"
   ]
  },
  {
   "cell_type": "markdown",
   "id": "5c8808e0",
   "metadata": {},
   "source": [
    "# 하이퍼 파라미터 튜닝 "
   ]
  },
  {
   "cell_type": "markdown",
   "id": "fb166df4",
   "metadata": {},
   "source": [
    "### 랜덤 포레스트 모델의 하이퍼 파라미터\n",
    "\n",
    "트리 기반 앙상블 알고리즘의 단점 = 하이퍼 파라미터가 많아 튜닝에 많은 시간이 소요된다.\n",
    "\n",
    "* `         `: 결정 트리의 개수 디폴트는 10\n",
    "* `          `: 기본은 'sqrt'  \n",
    "* `           `"
   ]
  },
  {
   "cell_type": "code",
   "execution_count": null,
   "id": "ad2bb700",
   "metadata": {},
   "outputs": [],
   "source": []
  },
  {
   "cell_type": "code",
   "execution_count": null,
   "id": "b84aabf8",
   "metadata": {},
   "outputs": [],
   "source": []
  },
  {
   "cell_type": "code",
   "execution_count": null,
   "id": "89fa01c1",
   "metadata": {},
   "outputs": [],
   "source": []
  },
  {
   "cell_type": "code",
   "execution_count": null,
   "id": "b70e94b0",
   "metadata": {},
   "outputs": [],
   "source": []
  },
  {
   "cell_type": "code",
   "execution_count": null,
   "id": "f6c5c1a1",
   "metadata": {},
   "outputs": [],
   "source": []
  },
  {
   "cell_type": "code",
   "execution_count": null,
   "id": "b10c5c8b",
   "metadata": {},
   "outputs": [],
   "source": []
  },
  {
   "cell_type": "markdown",
   "id": "19d465c8",
   "metadata": {},
   "source": [
    "# 부스팅 알고리즘\n",
    "\n",
    "약한 학습기를 순차적으로 학습 예측하면서 가중치 부여를 통해 오류를 개선해나가는 방식\n",
    "\n",
    "# GBM(Gradient Boosting Machine)\n",
    "\n",
    "경사 하강법을 이용해 가중치를 업데이트하는 알고리즘으로 랜덤 포레스트에 비해 대체로 성능이 조금 낫지만 수행시간이 오래걸린다는 단점이 있다.\n",
    "\n",
    "* ### `경사 하강법`\n",
    "\n",
    "오류(손실)를 최소하 하는 방향으로 반복적으로 가중치 업데이트하는 방식 \n",
    "\n"
   ]
  },
  {
   "cell_type": "markdown",
   "id": "5157ca5f",
   "metadata": {},
   "source": [
    "### GBM의 하이퍼 파라미터\n",
    "\n",
    "* `loss`\n",
    "* `learning rate`\n",
    "* `n_estimators`: 약한 학습기의 개수. 기본값은 100\n",
    "* `subsample`: 약한 학습기가 학습에 사용할 데이터의 샘플링 비율. 과적합이 우려될때 1보다(전체보다) 작은 값을 설정한다"
   ]
  },
  {
   "cell_type": "code",
   "execution_count": null,
   "id": "81b59aca",
   "metadata": {},
   "outputs": [],
   "source": [
    "from sklearn.ensemble import GradientBoostingClassifier\n",
    "import time\n",
    "import warnings\n",
    "warnings.filterwarnings('ignore')"
   ]
  },
  {
   "cell_type": "code",
   "execution_count": null,
   "id": "cafffb93",
   "metadata": {},
   "outputs": [],
   "source": []
  },
  {
   "cell_type": "code",
   "execution_count": null,
   "id": "5a7465d9",
   "metadata": {},
   "outputs": [],
   "source": []
  }
 ],
 "metadata": {
  "kernelspec": {
   "display_name": "Python 3 (ipykernel)",
   "language": "python",
   "name": "python3"
  },
  "language_info": {
   "codemirror_mode": {
    "name": "ipython",
    "version": 3
   },
   "file_extension": ".py",
   "mimetype": "text/x-python",
   "name": "python",
   "nbconvert_exporter": "python",
   "pygments_lexer": "ipython3",
   "version": "3.10.9"
  }
 },
 "nbformat": 4,
 "nbformat_minor": 5
}
