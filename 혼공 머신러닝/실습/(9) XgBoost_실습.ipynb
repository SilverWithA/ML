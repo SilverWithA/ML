{
 "cells": [
  {
   "cell_type": "markdown",
   "id": "47ec4200",
   "metadata": {},
   "source": [
    "# XGBoost\n",
    "\n",
    "\n",
    "GBM기반 알고리즘으로 GBM의 느린 수행 시간 및 과적합 규제 부재 등의 문제를 해결한 알고리즘\n",
    "\n",
    "### XGBoost 파라미터\n",
    "\n",
    "#### 일반 파라미터\n",
    "\n",
    "* `booster` = gbtree, gblinear\n",
    "* `silent` = 추력메시지 여부 ( 0 or 1)\n",
    "* `nthread`= CPU 스레드 개수 \n",
    "\n",
    "#### 부스터 파라미터\n",
    "\n",
    "* `eta` = learning rate\n",
    "* ` num_boost_rounds` = n_estimators\n",
    "* `gamma` = 리프노드를 추가적으로 나눌지 결저한 최소 손실 감소 값. 값이 클수록 과적합 감소 효과\n",
    "* `lambda` : L2규제 적용\n",
    "* `alpha`: L1규제 적용"
   ]
  },
  {
   "cell_type": "code",
   "execution_count": null,
   "id": "b40869b9",
   "metadata": {},
   "outputs": [],
   "source": [
    "import xgboost as xgb\n",
    "from xgboost import XGBClassifier"
   ]
  },
  {
   "cell_type": "code",
   "execution_count": null,
   "id": "e5ad4b04",
   "metadata": {},
   "outputs": [],
   "source": []
  },
  {
   "cell_type": "code",
   "execution_count": null,
   "id": "10bfe383",
   "metadata": {},
   "outputs": [],
   "source": []
  },
  {
   "cell_type": "code",
   "execution_count": null,
   "id": "d354841c",
   "metadata": {},
   "outputs": [],
   "source": []
  }
 ],
 "metadata": {
  "kernelspec": {
   "display_name": "Python 3 (ipykernel)",
   "language": "python",
   "name": "python3"
  },
  "language_info": {
   "codemirror_mode": {
    "name": "ipython",
    "version": 3
   },
   "file_extension": ".py",
   "mimetype": "text/x-python",
   "name": "python",
   "nbconvert_exporter": "python",
   "pygments_lexer": "ipython3",
   "version": "3.10.9"
  }
 },
 "nbformat": 4,
 "nbformat_minor": 5
}
