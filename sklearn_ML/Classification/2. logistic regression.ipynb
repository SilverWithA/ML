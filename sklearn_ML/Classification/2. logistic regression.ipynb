{
 "cells": [
  {
   "cell_type": "markdown",
   "id": "d6db4e68",
   "metadata": {},
   "source": [
    "# 분류\n",
    "# k-nn을 이용한 클래스 분류"
   ]
  },
  {
   "cell_type": "code",
   "execution_count": 1,
   "id": "e0dba263",
   "metadata": {},
   "outputs": [],
   "source": [
    "import pandas as pd \n",
    "import numpy as np\n",
    "import matplotlib.pyplot as plt"
   ]
  },
  {
   "cell_type": "code",
   "execution_count": 2,
   "id": "17d9effd",
   "metadata": {},
   "outputs": [
    {
     "data": {
      "text/html": [
       "<div>\n",
       "<style scoped>\n",
       "    .dataframe tbody tr th:only-of-type {\n",
       "        vertical-align: middle;\n",
       "    }\n",
       "\n",
       "    .dataframe tbody tr th {\n",
       "        vertical-align: top;\n",
       "    }\n",
       "\n",
       "    .dataframe thead th {\n",
       "        text-align: right;\n",
       "    }\n",
       "</style>\n",
       "<table border=\"1\" class=\"dataframe\">\n",
       "  <thead>\n",
       "    <tr style=\"text-align: right;\">\n",
       "      <th></th>\n",
       "      <th>Species</th>\n",
       "      <th>Weight</th>\n",
       "      <th>Length</th>\n",
       "      <th>Diagonal</th>\n",
       "      <th>Height</th>\n",
       "      <th>Width</th>\n",
       "    </tr>\n",
       "  </thead>\n",
       "  <tbody>\n",
       "    <tr>\n",
       "      <th>0</th>\n",
       "      <td>Bream</td>\n",
       "      <td>242.0</td>\n",
       "      <td>25.4</td>\n",
       "      <td>30.0</td>\n",
       "      <td>11.5200</td>\n",
       "      <td>4.0200</td>\n",
       "    </tr>\n",
       "    <tr>\n",
       "      <th>1</th>\n",
       "      <td>Bream</td>\n",
       "      <td>290.0</td>\n",
       "      <td>26.3</td>\n",
       "      <td>31.2</td>\n",
       "      <td>12.4800</td>\n",
       "      <td>4.3056</td>\n",
       "    </tr>\n",
       "    <tr>\n",
       "      <th>2</th>\n",
       "      <td>Bream</td>\n",
       "      <td>340.0</td>\n",
       "      <td>26.5</td>\n",
       "      <td>31.1</td>\n",
       "      <td>12.3778</td>\n",
       "      <td>4.6961</td>\n",
       "    </tr>\n",
       "    <tr>\n",
       "      <th>3</th>\n",
       "      <td>Bream</td>\n",
       "      <td>363.0</td>\n",
       "      <td>29.0</td>\n",
       "      <td>33.5</td>\n",
       "      <td>12.7300</td>\n",
       "      <td>4.4555</td>\n",
       "    </tr>\n",
       "    <tr>\n",
       "      <th>4</th>\n",
       "      <td>Bream</td>\n",
       "      <td>430.0</td>\n",
       "      <td>29.0</td>\n",
       "      <td>34.0</td>\n",
       "      <td>12.4440</td>\n",
       "      <td>5.1340</td>\n",
       "    </tr>\n",
       "  </tbody>\n",
       "</table>\n",
       "</div>"
      ],
      "text/plain": [
       "  Species  Weight  Length  Diagonal   Height   Width\n",
       "0   Bream   242.0    25.4      30.0  11.5200  4.0200\n",
       "1   Bream   290.0    26.3      31.2  12.4800  4.3056\n",
       "2   Bream   340.0    26.5      31.1  12.3778  4.6961\n",
       "3   Bream   363.0    29.0      33.5  12.7300  4.4555\n",
       "4   Bream   430.0    29.0      34.0  12.4440  5.1340"
      ]
     },
     "execution_count": 2,
     "metadata": {},
     "output_type": "execute_result"
    }
   ],
   "source": [
    "\n",
    "fish = pd.read_csv(\"https://bit.ly/fish_csv_data\")\n",
    "fish.head()"
   ]
  },
  {
   "cell_type": "code",
   "execution_count": 3,
   "id": "8d1f95fc",
   "metadata": {},
   "outputs": [
    {
     "data": {
      "text/plain": [
       "array(['Bream', 'Roach', 'Whitefish', 'Parkki', 'Perch', 'Pike', 'Smelt'],\n",
       "      dtype=object)"
      ]
     },
     "execution_count": 3,
     "metadata": {},
     "output_type": "execute_result"
    }
   ],
   "source": [
    "pd.unique(fish['Species'])"
   ]
  },
  {
   "cell_type": "code",
   "execution_count": 4,
   "id": "7a26f973",
   "metadata": {},
   "outputs": [],
   "source": [
    "fish_input = fish[['Weight','Length','Diagonal','Height','Width']].to_numpy()\n",
    "fish_target = fish['Species'].to_numpy()"
   ]
  },
  {
   "cell_type": "code",
   "execution_count": 5,
   "id": "5e3a840a",
   "metadata": {},
   "outputs": [],
   "source": [
    "from sklearn.model_selection import train_test_split"
   ]
  },
  {
   "cell_type": "code",
   "execution_count": 6,
   "id": "8199c5b3",
   "metadata": {},
   "outputs": [],
   "source": [
    "# 훈련 - 테스트 셋 나누기\n",
    "\n",
    "train_input, test_input, train_target, test_target = train_test_split(fish_input,\n",
    "                                                                     fish_target,\n",
    "                                                                     random_state = 42)"
   ]
  },
  {
   "cell_type": "code",
   "execution_count": 7,
   "id": "70581063",
   "metadata": {},
   "outputs": [],
   "source": [
    "from sklearn.preprocessing import StandardScaler"
   ]
  },
  {
   "cell_type": "code",
   "execution_count": 8,
   "id": "fa0763dc",
   "metadata": {},
   "outputs": [],
   "source": [
    "# 특성 정규화\n",
    "\n",
    "ss= StandardScaler()\n",
    "ss.fit(train_input)\n",
    "\n",
    "train_scaled = ss.transform(train_input)\n",
    "test_scaled = ss.transform(test_input)"
   ]
  },
  {
   "cell_type": "code",
   "execution_count": 9,
   "id": "9842d344",
   "metadata": {},
   "outputs": [],
   "source": [
    "# k-nn으로 분류기의 확률 예측하기"
   ]
  },
  {
   "cell_type": "code",
   "execution_count": 10,
   "id": "5486389d",
   "metadata": {},
   "outputs": [],
   "source": [
    "from sklearn.neighbors import KNeighborsClassifier"
   ]
  },
  {
   "cell_type": "code",
   "execution_count": 11,
   "id": "c02cd8d6",
   "metadata": {},
   "outputs": [
    {
     "name": "stdout",
     "output_type": "stream",
     "text": [
      "0.8907563025210085\n",
      "0.85\n"
     ]
    }
   ],
   "source": [
    "kn = KNeighborsClassifier(n_neighbors = 3)\n",
    "\n",
    "kn.fit(train_scaled, train_target)\n",
    "print(kn.score(train_scaled, train_target))\n",
    "print(kn.score(test_scaled, test_target))"
   ]
  },
  {
   "cell_type": "code",
   "execution_count": 12,
   "id": "0f4eca11",
   "metadata": {},
   "outputs": [
    {
     "data": {
      "text/plain": [
       "array(['Bream', 'Parkki', 'Perch', 'Pike', 'Roach', 'Smelt', 'Whitefish'],\n",
       "      dtype=object)"
      ]
     },
     "execution_count": 12,
     "metadata": {},
     "output_type": "execute_result"
    }
   ],
   "source": [
    "# 저장된 타겟값의 순서\n",
    "\n",
    "kn.classes_"
   ]
  },
  {
   "cell_type": "code",
   "execution_count": 13,
   "id": "b9f10a0a",
   "metadata": {
    "scrolled": true
   },
   "outputs": [
    {
     "name": "stdout",
     "output_type": "stream",
     "text": [
      "['Bream' 'Parkki' 'Perch' 'Pike' 'Roach' 'Smelt' 'Whitefish']\n",
      "[[0.     0.     1.     0.     0.     0.     0.    ]\n",
      " [0.     0.     0.     0.     0.     1.     0.    ]\n",
      " [0.     0.     0.     1.     0.     0.     0.    ]\n",
      " [0.     0.     0.6667 0.     0.3333 0.     0.    ]\n",
      " [0.     0.     0.6667 0.     0.3333 0.     0.    ]]\n"
     ]
    }
   ],
   "source": [
    "proba = kn.predict_proba(test_scaled[:5])\n",
    "print(kn.classes_)\n",
    "print(np.round(proba, decimals =4)) # 소수점 네번째자리까지 표기\n",
    "\n",
    "# test_caled의 데이터가 어떤 클래스에 속할지에 대한 확률값 반환"
   ]
  },
  {
   "cell_type": "markdown",
   "id": "cc55f438",
   "metadata": {},
   "source": [
    "# 로지스틱 회귀분석\n",
    "\n",
    "* 피쳐 정규화 필요\n",
    "* 피쳐 = 배열의 형태/ 타겟 = 이진분류형식. 꼭 0과 1이 아니어도 괜찮음. \n",
    "\n",
    "`시그모이드 함수`를 사용하여 예측값이 음수이면 0을 아주 큰 양수일때 1이되록 하는 모델\n",
    "\n",
    "시그모이드 함수는 출력이 0.5보다 작으면 음성 클래스로 크면 양성 클래스로 판단한다.\n",
    "\n",
    "x축 = 0일때 y축 0.5임 이를 기준으로 음성 클래스, 양성클래스를 판단한다."
   ]
  },
  {
   "cell_type": "code",
   "execution_count": 14,
   "id": "f54e4474",
   "metadata": {},
   "outputs": [
    {
     "data": {
      "text/plain": [
       "[<matplotlib.lines.Line2D at 0x28408254280>]"
      ]
     },
     "execution_count": 14,
     "metadata": {},
     "output_type": "execute_result"
    },
    {
     "data": {
      "image/png": "[encoded data removed]",
      "text/plain": [
       "<Figure size 640x480 with 1 Axes>"
      ]
     },
     "metadata": {},
     "output_type": "display_data"
    }
   ],
   "source": [
    "z = np.arange(-5,5,0.1)\n",
    "phi = 1/(1 + np.exp(-z))\n",
    "plt.plot(z,phi)"
   ]
  },
  {
   "cell_type": "code",
   "execution_count": null,
   "id": "089a6e5d",
   "metadata": {},
   "outputs": [],
   "source": [
    "# 이진분류 수행하기"
   ]
  },
  {
   "cell_type": "code",
   "execution_count": 15,
   "id": "c78f35a3",
   "metadata": {},
   "outputs": [
    {
     "name": "stdout",
     "output_type": "stream",
     "text": [
      "['a' 'c']\n"
     ]
    }
   ],
   "source": [
    "char_arr = np.array(['a','b','c','d','e'])\n",
    "print(char_arr[[True,False,True,False,False]])"
   ]
  },
  {
   "cell_type": "code",
   "execution_count": 33,
   "id": "70bb63d5",
   "metadata": {},
   "outputs": [],
   "source": [
    "# 도미이거나 빙어인 행만 추출\n",
    "\n",
    "bs_index = (train_target== 'Bream') | (train_target == 'Smelt') # boolean 형식으로 변수에 할당\n",
    "train_bs = train_scaled[bs_index]\n",
    "target_bs = train_target[bs_index]"
   ]
  },
  {
   "cell_type": "code",
   "execution_count": 34,
   "id": "d00d1d17",
   "metadata": {
    "scrolled": true
   },
   "outputs": [
    {
     "data": {
      "text/plain": [
       "array([[ 0.91965782,  0.60943175,  0.81041221,  1.85194896,  1.00075672],\n",
       "       [-1.0858536 , -1.68646987, -1.70848587, -1.70159849, -2.0044758 ],\n",
       "       [ 0.63818253,  0.56257661,  0.73223951,  1.64473401,  0.50705737],\n",
       "       [ 0.30041219,  0.23459067,  0.42823457,  1.36042157,  0.22329758],\n",
       "       [ 0.9027693 ,  0.70314202,  0.88858491,  1.89027545,  0.85537174],\n",
       "       [-1.0824759 , -1.61150165, -1.62162731, -1.7000674 , -1.92815631],\n",
       "       [ 0.10337949,  0.04717013,  0.23714575,  0.88445197,  0.41799764],\n",
       "       [ 1.49668216,  1.03112796,  1.21864741,  2.44274986,  1.40289707],\n",
       "       [ 0.23004337,  0.23459067,  0.42823457,  1.3336029 ,  0.39983213],\n",
       "       [-0.42579405, -0.29018684, -0.11028847,  0.65627104, -0.26107519],\n",
       "       [ 1.28557569,  0.70314202,  0.89727076,  1.98228866,  1.06683526],\n",
       "       [ 0.93373158,  0.60943175,  0.83646978,  1.85150445,  0.97832415],\n",
       "       [ 0.80706771,  0.60943175,  0.81041221,  1.63137406,  1.0255057 ],\n",
       "       [-1.07262426, -1.52716241, -1.55214047, -1.67235972, -1.86207776],\n",
       "       [ 1.6374198 ,  1.17169337,  1.27076255,  2.41341232,  1.40143407],\n",
       "       [-1.07966115, -1.63961473, -1.67374245, -1.6462819 , -1.87036806],\n",
       "       [-1.05151362, -1.33037084, -1.39579507, -1.47914678, -1.45146425],\n",
       "       [ 0.15967454,  0.11276732,  0.29794674,  1.17051775,  0.29205828],\n",
       "       [ 1.56705098,  1.17169337,  1.32287768,  2.16352457,  1.17174409],\n",
       "       [-0.00921063,  0.1408804 ,  0.3240043 ,  0.94026245,  0.14734384],\n",
       "       [ 0.15967454,  0.1408804 ,  0.33269016,  1.26991474,  0.24109734],\n",
       "       [-0.14994827,  0.32830094,  0.52377898,  1.24719543,  0.3806913 ],\n",
       "       [-0.08520896,  0.04717013,  0.19371647,  0.95507939,  0.00439718],\n",
       "       [ 0.86336276,  0.42201121,  0.62800925,  1.5003429 ,  0.45670601],\n",
       "       [ 0.30041219,  0.11276732,  0.28057503,  1.31303204,  0.50608204],\n",
       "       [-1.07262426, -1.45219419, -1.51739705, -1.62627903, -1.94607798],\n",
       "       [ 0.82114147,  0.51572148,  0.68881023,  1.76102232,  0.5621025 ],\n",
       "       [-1.07937967, -1.54590446, -1.56951218, -1.64420753, -2.01154694],\n",
       "       [-1.07937967, -1.62087268, -1.63899902, -1.67413775, -1.93303295],\n",
       "       [-0.29068592, -0.2058476 , -0.0060582 ,  0.89334213, -0.08697896],\n",
       "       [-1.05095067, -1.26477365, -1.30893652, -1.46447801, -1.56606541],\n",
       "       [ 0.51151865,  0.51572148,  0.7148678 ,  1.54738669,  0.68347   ],\n",
       "       [ 0.58188748,  0.32830094,  0.51509312,  1.50439286,  0.4404302 ]])"
      ]
     },
     "execution_count": 34,
     "metadata": {},
     "output_type": "execute_result"
    }
   ],
   "source": [
    "train_bs"
   ]
  },
  {
   "cell_type": "code",
   "execution_count": 41,
   "id": "cab34b2e",
   "metadata": {},
   "outputs": [
    {
     "data": {
      "text/plain": [
       "array(['Bream', 'Smelt', 'Bream', 'Bream', 'Bream', 'Smelt', 'Bream',\n",
       "       'Bream', 'Bream', 'Bream', 'Bream', 'Bream', 'Bream', 'Smelt',\n",
       "       'Bream', 'Smelt', 'Smelt', 'Bream', 'Bream', 'Bream', 'Bream',\n",
       "       'Bream', 'Bream', 'Bream', 'Bream', 'Smelt', 'Bream', 'Smelt',\n",
       "       'Smelt', 'Bream', 'Smelt', 'Bream', 'Bream'], dtype=object)"
      ]
     },
     "execution_count": 41,
     "metadata": {},
     "output_type": "execute_result"
    }
   ],
   "source": [
    "target_bs"
   ]
  },
  {
   "cell_type": "markdown",
   "id": "52a3ba11",
   "metadata": {},
   "source": [
    "### 사이킷런 LogisticREgression\n",
    "\n",
    "solver 옵션을 통해 최적화 방법 설정 가능\n",
    "\n",
    "https://scikit-learn.org/stable/modules/generated/sklearn.linear_model.LogisticRegression.html"
   ]
  },
  {
   "cell_type": "code",
   "execution_count": 35,
   "id": "f10de070",
   "metadata": {},
   "outputs": [],
   "source": [
    "from sklearn.linear_model import LogisticRegression"
   ]
  },
  {
   "cell_type": "code",
   "execution_count": 36,
   "id": "7f8b6b37",
   "metadata": {},
   "outputs": [
    {
     "data": {
      "text/html": [
       "<style>#sk-container-id-2 {color: black;background-color: white;}#sk-container-id-2 pre{padding: 0;}#sk-container-id-2 div.sk-toggleable {background-color: white;}#sk-container-id-2 label.sk-toggleable__label {cursor: pointer;display: block;width: 100%;margin-bottom: 0;padding: 0.3em;box-sizing: border-box;text-align: center;}#sk-container-id-2 label.sk-toggleable__label-arrow:before {content: \"▸\";float: left;margin-right: 0.25em;color: #696969;}#sk-container-id-2 label.sk-toggleable__label-arrow:hover:before {color: black;}#sk-container-id-2 div.sk-estimator:hover label.sk-toggleable__label-arrow:before {color: black;}#sk-container-id-2 div.sk-toggleable__content {max-height: 0;max-width: 0;overflow: hidden;text-align: left;background-color: #f0f8ff;}#sk-container-id-2 div.sk-toggleable__content pre {margin: 0.2em;color: black;border-radius: 0.25em;background-color: #f0f8ff;}#sk-container-id-2 input.sk-toggleable__control:checked~div.sk-toggleable__content {max-height: 200px;max-width: 100%;overflow: auto;}#sk-container-id-2 input.sk-toggleable__control:checked~label.sk-toggleable__label-arrow:before {content: \"▾\";}#sk-container-id-2 div.sk-estimator input.sk-toggleable__control:checked~label.sk-toggleable__label {background-color: #d4ebff;}#sk-container-id-2 div.sk-label input.sk-toggleable__control:checked~label.sk-toggleable__label {background-color: #d4ebff;}#sk-container-id-2 input.sk-hidden--visually {border: 0;clip: rect(1px 1px 1px 1px);clip: rect(1px, 1px, 1px, 1px);height: 1px;margin: -1px;overflow: hidden;padding: 0;position: absolute;width: 1px;}#sk-container-id-2 div.sk-estimator {font-family: monospace;background-color: #f0f8ff;border: 1px dotted black;border-radius: 0.25em;box-sizing: border-box;margin-bottom: 0.5em;}#sk-container-id-2 div.sk-estimator:hover {background-color: #d4ebff;}#sk-container-id-2 div.sk-parallel-item::after {content: \"\";width: 100%;border-bottom: 1px solid gray;flex-grow: 1;}#sk-container-id-2 div.sk-label:hover label.sk-toggleable__label {background-color: #d4ebff;}#sk-container-id-2 div.sk-serial::before {content: \"\";position: absolute;border-left: 1px solid gray;box-sizing: border-box;top: 0;bottom: 0;left: 50%;z-index: 0;}#sk-container-id-2 div.sk-serial {display: flex;flex-direction: column;align-items: center;background-color: white;padding-right: 0.2em;padding-left: 0.2em;position: relative;}#sk-container-id-2 div.sk-item {position: relative;z-index: 1;}#sk-container-id-2 div.sk-parallel {display: flex;align-items: stretch;justify-content: center;background-color: white;position: relative;}#sk-container-id-2 div.sk-item::before, #sk-container-id-2 div.sk-parallel-item::before {content: \"\";position: absolute;border-left: 1px solid gray;box-sizing: border-box;top: 0;bottom: 0;left: 50%;z-index: -1;}#sk-container-id-2 div.sk-parallel-item {display: flex;flex-direction: column;z-index: 1;position: relative;background-color: white;}#sk-container-id-2 div.sk-parallel-item:first-child::after {align-self: flex-end;width: 50%;}#sk-container-id-2 div.sk-parallel-item:last-child::after {align-self: flex-start;width: 50%;}#sk-container-id-2 div.sk-parallel-item:only-child::after {width: 0;}#sk-container-id-2 div.sk-dashed-wrapped {border: 1px dashed gray;margin: 0 0.4em 0.5em 0.4em;box-sizing: border-box;padding-bottom: 0.4em;background-color: white;}#sk-container-id-2 div.sk-label label {font-family: monospace;font-weight: bold;display: inline-block;line-height: 1.2em;}#sk-container-id-2 div.sk-label-container {text-align: center;}#sk-container-id-2 div.sk-container {/* jupyter's `normalize.less` sets `[hidden] { display: none; }` but bootstrap.min.css set `[hidden] { display: none !important; }` so we also need the `!important` here to be able to override the default hidden behavior on the sphinx rendered scikit-learn.org. See: https://github.com/scikit-learn/scikit-learn/issues/21755 */display: inline-block !important;position: relative;}#sk-container-id-2 div.sk-text-repr-fallback {display: none;}</style><div id=\"sk-container-id-2\" class=\"sk-top-container\"><div class=\"sk-text-repr-fallback\"><pre>LogisticRegression()</pre><b>In a Jupyter environment, please rerun this cell to show the HTML representation or trust the notebook. <br />On GitHub, the HTML representation is unable to render, please try loading this page with nbviewer.org.</b></div><div class=\"sk-container\" hidden><div class=\"sk-item\"><div class=\"sk-estimator sk-toggleable\"><input class=\"sk-toggleable__control sk-hidden--visually\" id=\"sk-estimator-id-2\" type=\"checkbox\" checked><label for=\"sk-estimator-id-2\" class=\"sk-toggleable__label sk-toggleable__label-arrow\">LogisticRegression</label><div class=\"sk-toggleable__content\"><pre>LogisticRegression()</pre></div></div></div></div></div>"
      ],
      "text/plain": [
       "LogisticRegression()"
      ]
     },
     "execution_count": 36,
     "metadata": {},
     "output_type": "execute_result"
    }
   ],
   "source": [
    "lr = LogisticRegression()\n",
    "lr.fit(train_bs, target_bs)"
   ]
  },
  {
   "cell_type": "code",
   "execution_count": 37,
   "id": "683e9181",
   "metadata": {
    "scrolled": true
   },
   "outputs": [
    {
     "name": "stdout",
     "output_type": "stream",
     "text": [
      "['Bream' 'Smelt']\n",
      "[[0.99759855 0.00240145]\n",
      " [0.02735183 0.97264817]\n",
      " [0.99486072 0.00513928]\n",
      " [0.98584202 0.01415798]\n",
      " [0.99767269 0.00232731]]\n"
     ]
    }
   ],
   "source": [
    "print(lr.classes_)\n",
    "print(lr.predict_proba(train_bs[:5]))"
   ]
  },
  {
   "cell_type": "code",
   "execution_count": 38,
   "id": "31ee6666",
   "metadata": {
    "scrolled": true
   },
   "outputs": [
    {
     "name": "stdout",
     "output_type": "stream",
     "text": [
      "[[-0.4037798  -0.57620209 -0.66280298 -1.01290277 -0.73168947]]\n",
      "[-2.16155132]\n"
     ]
    }
   ],
   "source": [
    "print(lr.coef_) # 각 특성의 계수\n",
    "print(lr.intercept_) "
   ]
  },
  {
   "cell_type": "code",
   "execution_count": 39,
   "id": "ec3d1f25",
   "metadata": {
    "scrolled": true
   },
   "outputs": [
    {
     "name": "stdout",
     "output_type": "stream",
     "text": [
      "[-6.02927744  3.57123907 -5.26568906 -4.24321775 -6.0607117 ]\n"
     ]
    }
   ],
   "source": [
    "# 다음의 파라미터를 바탕으로 모델이 계산한 예측값(decision)\n",
    "\n",
    "decision = lr.decision_function(train_bs[:5])\n",
    "print(decision)"
   ]
  },
  {
   "cell_type": "code",
   "execution_count": 40,
   "id": "a6a992bc",
   "metadata": {},
   "outputs": [
    {
     "name": "stdout",
     "output_type": "stream",
     "text": [
      "[0.00240145 0.97264817 0.00513928 0.01415798 0.00232731]\n"
     ]
    }
   ],
   "source": [
    "# 다음의 값을 시그모이드 함수에 통과시키면 확률값을 얻을 수 있음\n",
    "\n",
    "from scipy.special import expit \n",
    "\n",
    "# expit 시그모이드 함수로 계산해줌\n",
    "print(expit(decision))"
   ]
  },
  {
   "cell_type": "markdown",
   "id": "dc9ceeda",
   "metadata": {},
   "source": [
    "# 다중 분류 수행하기\n",
    "\n",
    "\n",
    "세 개 이상의 선택지 중 하나를 고르는 문제를 다중 클래스 분류라고 함. \n",
    "\n",
    "* LogisticRegression은 반복알고리즘임. 충분히 훈련하기 위해 반복 횟수 `max_iter` 를 1000으로 지정\n",
    "* 로지스틱은 릿지의 규제와 같이 계수의 제곱을 규제함(L2규제) `C =20`으로 지정하여 작을수록 규제 커짐 기본 1임\n",
    "* 다중분류는 `소프트맥스 함수`를 이용하여 확률을 계산(정규화된 지수함수에 해당한다)  https://wikidocs.net/35476\n",
    "\n",
    "특정 피쳐에 대해 꽃의 종류가 setosa인지, versicolor가인지, virginica 분류하기 위해 각 정답지에 대해서 시그모이드 함수를 적용할 수 있습니다. 만약 그렇게 한다면, setosa가 정답일 확률은 0.8, versicolor가 정답일 확률은 0.2, virginica가 정답일 확률은 0.4 등과 같은 출력을 얻게됩니다. 그런데 이 전체 확률의 합계가 1이 되도록 하여 전체 선택지에 걸친 확률로 바꿀 순 없을까요? 예를 들어 샘플 데이터가 입력으로 들어오면 모델이 setosa일 확률이 0.7, versicolor일 확률 0.05, virginica일 확률이 0.25과 같이 세 개의 확률의 총 합이 1인 예측값을 얻도록 하자는 것입니다. 그리고 이 경우 확률값이 가장 높은 setosa로 예측한 것으로 간주하고자 합니다. 이럴 때 사용할 수 있는 것이 소프트맥스 함수입니다.\n",
    "\n",
    "* 세 개 이상으로 분류하는 다중 클래스 분류에서 사용하는 활성화 함수다.\n",
    "* 소프트맥스 함수는 분류될 클래스가 n개라 할 때, n차원의 벡터를 입력받아서 각 클래스에 속할 확률을 추정한다.\n",
    "* 출력의 합은 1이 된다. 죽, 예측하고자하는 분류 종류에 대해 각각 확률을 계산한다. "
   ]
  },
  {
   "cell_type": "code",
   "execution_count": 48,
   "id": "82fae5d0",
   "metadata": {},
   "outputs": [
    {
     "name": "stdout",
     "output_type": "stream",
     "text": [
      "0.9327731092436975\n"
     ]
    }
   ],
   "source": [
    "lr = LogisticRegression(C = 20, max_iter = 1000)\n",
    "lr.fit(train_scaled, train_target)\n",
    "print(lr.score(train_scaled, train_target))"
   ]
  },
  {
   "cell_type": "code",
   "execution_count": 49,
   "id": "84f80e22",
   "metadata": {},
   "outputs": [],
   "source": [
    "from scipy.special import softmax"
   ]
  },
  {
   "cell_type": "code",
   "execution_count": 51,
   "id": "8b216bb7",
   "metadata": {
    "scrolled": true
   },
   "outputs": [
    {
     "name": "stdout",
     "output_type": "stream",
     "text": [
      "[[ -6.5    1.03   5.16  -2.73   3.34   0.33  -0.63]\n",
      " [-10.86   1.93   4.77  -2.4    2.98   7.84  -4.26]\n",
      " [ -4.34  -6.23   3.17   6.49   2.36   2.42  -3.87]\n",
      " [ -0.68   0.45   2.65  -1.19   3.26  -5.75   1.26]\n",
      " [ -6.4   -1.99   5.82  -0.11   3.5   -0.11  -0.71]]\n",
      "\n",
      "[[0.    0.014 0.841 0.    0.136 0.007 0.003]\n",
      " [0.    0.003 0.044 0.    0.007 0.946 0.   ]\n",
      " [0.    0.    0.034 0.935 0.015 0.016 0.   ]\n",
      " [0.011 0.034 0.306 0.007 0.567 0.    0.076]\n",
      " [0.    0.    0.904 0.002 0.089 0.002 0.001]]\n"
     ]
    }
   ],
   "source": [
    "decision = lr.decision_function(test_scaled[:5])\n",
    "print(np.round(decision, decimals =2))\n",
    "\n",
    "print()\n",
    "\n",
    "\n",
    "# 5개 샘플에 대한 예측이라서 5개 행 출력됨\n",
    "# 생선 종류가 7개니까 7개의 열\n",
    "# 7개의 중 가장 높은 proba값을 출력하는 클래스가 예측 클래스가 되며 이 proba값은 소프트맥스 함수를 통해 확률로 계산된다.\n",
    "\n",
    "proba = softmax(decision, axis =1)\n",
    "print(np.round(proba, decimals=3))"
   ]
  },
  {
   "cell_type": "markdown",
   "id": "ac996a05",
   "metadata": {},
   "source": [
    "# 경사 하강법\n",
    "\n",
    "* `확률적 경사하강법`: 훈련세트에서 샘플 하나씩을 꺼내 손실 함수의 경사를 따라 최적의 모델을 찾는 알고리즘\n",
    "* `미니배치 경사하강법`: 샘프을 하나씩 사용하지 않고 여러개를 사용\n",
    "* `배치 경사 하강법`: 한번에 전체 샘프을 사용"
   ]
  },
  {
   "cell_type": "markdown",
   "id": "8f5d67a7",
   "metadata": {},
   "source": [
    "# 로지스틱 손실함수\n",
    "\n",
    "https://ukb1og.tistory.com/22\n",
    "\n",
    "https://wikidocs.net/22881\n"
   ]
  },
  {
   "cell_type": "markdown",
   "id": "186c593e",
   "metadata": {
    "collapsed": true
   },
   "source": [
    "# SGDClassifier\n",
    "\n",
    "* 확률적 경사하강법을 사용한 분류 알고리즘\n",
    "* 확률적 경사하강법을 사용한 회귀 알고리즘으로는 SGDRegressor가 있다\n",
    "\n",
    "\n",
    "*`SGDClassifier()`에서 `loss`는 손실함수 종류를 지정한다. '\n",
    "\n",
    "`log'`로 로지스틱 손실함수로 지정\n",
    "max_iter는 `epochs`를 지정, 전체 훈련세트에 대해 10회 반복 지정\n"
   ]
  },
  {
   "cell_type": "code",
   "execution_count": 52,
   "id": "136c57fb",
   "metadata": {},
   "outputs": [],
   "source": [
    "from sklearn.linear_model import SGDClassifier"
   ]
  },
  {
   "cell_type": "code",
   "execution_count": 56,
   "id": "01904c0d",
   "metadata": {},
   "outputs": [
    {
     "name": "stdout",
     "output_type": "stream",
     "text": [
      "0.773109243697479\n",
      "0.775\n"
     ]
    },
    {
     "name": "stderr",
     "output_type": "stream",
     "text": [
      "C:\\Users\\Playdata\\anaconda3\\lib\\site-packages\\sklearn\\linear_model\\_stochastic_gradient.py:163: FutureWarning: The loss 'log' was deprecated in v1.1 and will be removed in version 1.3. Use `loss='log_loss'` which is equivalent.\n",
      "  warnings.warn(\n",
      "C:\\Users\\Playdata\\anaconda3\\lib\\site-packages\\sklearn\\linear_model\\_stochastic_gradient.py:702: ConvergenceWarning: Maximum number of iteration reached before convergence. Consider increasing max_iter to improve the fit.\n",
      "  warnings.warn(\n"
     ]
    }
   ],
   "source": [
    "sc = SGDClassifier(loss='log', max_iter = 10, random_state=42)\n",
    "\n",
    "sc.fit(train_scaled,train_target)\n",
    "\n",
    "print(sc.score(train_scaled,train_target))\n",
    "print(sc.score(test_scaled,test_target))\n",
    "\n",
    "\n",
    "# convergence warning 이유: 충분한 반복을 하지 않았기 때문임. max_iter값을 늘려주면 해결"
   ]
  },
  {
   "cell_type": "code",
   "execution_count": 57,
   "id": "027e8add",
   "metadata": {},
   "outputs": [
    {
     "name": "stdout",
     "output_type": "stream",
     "text": [
      "0.8151260504201681\n",
      "0.85\n"
     ]
    }
   ],
   "source": [
    "# 에포크를 수동으로 실행하기\n",
    "\n",
    "sc.partial_fit(train_scaled,train_target)\n",
    "print(sc.score(train_scaled,train_target))\n",
    "print(sc.score(test_scaled,test_target))"
   ]
  }
 ],
 "metadata": {
  "kernelspec": {
   "display_name": "Python 3 (ipykernel)",
   "language": "python",
   "name": "python3"
  },
  "language_info": {
   "codemirror_mode": {
    "name": "ipython",
    "version": 3
   },
   "file_extension": ".py",
   "mimetype": "text/x-python",
   "name": "python",
   "nbconvert_exporter": "python",
   "pygments_lexer": "ipython3",
   "version": "3.10.9"
  }
 },
 "nbformat": 4,
 "nbformat_minor": 5
}
