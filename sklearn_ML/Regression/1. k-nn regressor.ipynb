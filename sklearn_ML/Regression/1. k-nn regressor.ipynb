{
 "cells": [
  {
   "cell_type": "markdown",
   "id": "cc33d44d",
   "metadata": {},
   "source": [
    "참고:혼자 공부하는 머신러닝 + 딥러닝(한빛미디어)"
   ]
  },
  {
   "cell_type": "markdown",
   "id": "cabd8e29",
   "metadata": {},
   "source": [
    "# K-최근접 이웃 회귀\n",
    "\n",
    "* k-nn 알고리즘의 방식으로 회귀 예측값을 반환\n",
    "* k-nn은 예측값으로 분류를 k-nn 회귀는 `연속적인 값`을 반환한다.\n"
   ]
  },
  {
   "cell_type": "code",
   "execution_count": 1,
   "id": "0c3ceee5",
   "metadata": {},
   "outputs": [],
   "source": [
    "import numpy as np\n",
    "import matplotlib.pyplot as plt\n",
    "from sklearn.model_selection import train_test_split"
   ]
  },
  {
   "cell_type": "code",
   "execution_count": 2,
   "id": "0de6dd22",
   "metadata": {},
   "outputs": [],
   "source": [
    "perch_length = np.array([8.4, 13.7, 15.0, 16.2, 17.4, 18.0, 18.7, 19.0, 19.6, 20.0, 21.0,\n",
    "       21.0, 21.0, 21.3, 22.0, 22.0, 22.0, 22.0, 22.0, 22.5, 22.5, 22.7,\n",
    "       23.0, 23.5, 24.0, 24.0, 24.6, 25.0, 25.6, 26.5, 27.3, 27.5, 27.5,\n",
    "       27.5, 28.0, 28.7, 30.0, 32.8, 34.5, 35.0, 36.5, 36.0, 37.0, 37.0,\n",
    "       39.0, 39.0, 39.0, 40.0, 40.0, 40.0, 40.0, 42.0, 43.0, 43.0, 43.5,\n",
    "       44.0])\n",
    "perch_weight = np.array([5.9, 32.0, 40.0, 51.5, 70.0, 100.0, 78.0, 80.0, 85.0, 85.0, 110.0,\n",
    "       115.0, 125.0, 130.0, 120.0, 120.0, 130.0, 135.0, 110.0, 130.0,\n",
    "       150.0, 145.0, 150.0, 170.0, 225.0, 145.0, 188.0, 180.0, 197.0,\n",
    "       218.0, 300.0, 260.0, 265.0, 250.0, 250.0, 300.0, 320.0, 514.0,\n",
    "       556.0, 840.0, 685.0, 700.0, 700.0, 690.0, 900.0, 650.0, 820.0,\n",
    "       850.0, 900.0, 1015.0, 820.0, 1100.0, 1000.0, 1100.0, 1000.0,\n",
    "       1000.0])"
   ]
  },
  {
   "cell_type": "code",
   "execution_count": 3,
   "id": "a6f5aa01",
   "metadata": {},
   "outputs": [],
   "source": [
    "train_input, test_input, train_target, test_target = train_test_split(perch_length,\n",
    "                                                                     perch_weight,\n",
    "                                                                     random_state = 42)"
   ]
  },
  {
   "cell_type": "code",
   "execution_count": 4,
   "id": "1b9d8e77",
   "metadata": {
    "scrolled": true
   },
   "outputs": [
    {
     "data": {
      "text/plain": [
       "(42,)"
      ]
     },
     "execution_count": 4,
     "metadata": {},
     "output_type": "execute_result"
    }
   ],
   "source": [
    "train_input.shape"
   ]
  },
  {
   "cell_type": "markdown",
   "id": "dd34f52b",
   "metadata": {},
   "source": [
    "* `reshpe()`: 배열의 크기를 바꿀 수 있는 매서드\n",
    "\n",
    "모델에는 2차원 데이터가 들어가야 하므로 1차원 데이터인 train_input을 reshape을 통해 2차원으로 만들어준다."
   ]
  },
  {
   "cell_type": "code",
   "execution_count": 5,
   "id": "9618aadf",
   "metadata": {},
   "outputs": [
    {
     "data": {
      "text/plain": [
       "(42, 1)"
      ]
     },
     "execution_count": 5,
     "metadata": {},
     "output_type": "execute_result"
    }
   ],
   "source": [
    "train_input = train_input.reshape(-1,1)\n",
    "test_input = test_input.reshape(-1,1)\n",
    "train_input.shape"
   ]
  },
  {
   "cell_type": "code",
   "execution_count": 6,
   "id": "bb293c90",
   "metadata": {},
   "outputs": [],
   "source": [
    "from sklearn.neighbors import KNeighborsRegressor"
   ]
  },
  {
   "cell_type": "code",
   "execution_count": 7,
   "id": "0e2fbe5d",
   "metadata": {},
   "outputs": [
    {
     "data": {
      "text/html": [
       "<style>#sk-container-id-1 {color: black;background-color: white;}#sk-container-id-1 pre{padding: 0;}#sk-container-id-1 div.sk-toggleable {background-color: white;}#sk-container-id-1 label.sk-toggleable__label {cursor: pointer;display: block;width: 100%;margin-bottom: 0;padding: 0.3em;box-sizing: border-box;text-align: center;}#sk-container-id-1 label.sk-toggleable__label-arrow:before {content: \"▸\";float: left;margin-right: 0.25em;color: #696969;}#sk-container-id-1 label.sk-toggleable__label-arrow:hover:before {color: black;}#sk-container-id-1 div.sk-estimator:hover label.sk-toggleable__label-arrow:before {color: black;}#sk-container-id-1 div.sk-toggleable__content {max-height: 0;max-width: 0;overflow: hidden;text-align: left;background-color: #f0f8ff;}#sk-container-id-1 div.sk-toggleable__content pre {margin: 0.2em;color: black;border-radius: 0.25em;background-color: #f0f8ff;}#sk-container-id-1 input.sk-toggleable__control:checked~div.sk-toggleable__content {max-height: 200px;max-width: 100%;overflow: auto;}#sk-container-id-1 input.sk-toggleable__control:checked~label.sk-toggleable__label-arrow:before {content: \"▾\";}#sk-container-id-1 div.sk-estimator input.sk-toggleable__control:checked~label.sk-toggleable__label {background-color: #d4ebff;}#sk-container-id-1 div.sk-label input.sk-toggleable__control:checked~label.sk-toggleable__label {background-color: #d4ebff;}#sk-container-id-1 input.sk-hidden--visually {border: 0;clip: rect(1px 1px 1px 1px);clip: rect(1px, 1px, 1px, 1px);height: 1px;margin: -1px;overflow: hidden;padding: 0;position: absolute;width: 1px;}#sk-container-id-1 div.sk-estimator {font-family: monospace;background-color: #f0f8ff;border: 1px dotted black;border-radius: 0.25em;box-sizing: border-box;margin-bottom: 0.5em;}#sk-container-id-1 div.sk-estimator:hover {background-color: #d4ebff;}#sk-container-id-1 div.sk-parallel-item::after {content: \"\";width: 100%;border-bottom: 1px solid gray;flex-grow: 1;}#sk-container-id-1 div.sk-label:hover label.sk-toggleable__label {background-color: #d4ebff;}#sk-container-id-1 div.sk-serial::before {content: \"\";position: absolute;border-left: 1px solid gray;box-sizing: border-box;top: 0;bottom: 0;left: 50%;z-index: 0;}#sk-container-id-1 div.sk-serial {display: flex;flex-direction: column;align-items: center;background-color: white;padding-right: 0.2em;padding-left: 0.2em;position: relative;}#sk-container-id-1 div.sk-item {position: relative;z-index: 1;}#sk-container-id-1 div.sk-parallel {display: flex;align-items: stretch;justify-content: center;background-color: white;position: relative;}#sk-container-id-1 div.sk-item::before, #sk-container-id-1 div.sk-parallel-item::before {content: \"\";position: absolute;border-left: 1px solid gray;box-sizing: border-box;top: 0;bottom: 0;left: 50%;z-index: -1;}#sk-container-id-1 div.sk-parallel-item {display: flex;flex-direction: column;z-index: 1;position: relative;background-color: white;}#sk-container-id-1 div.sk-parallel-item:first-child::after {align-self: flex-end;width: 50%;}#sk-container-id-1 div.sk-parallel-item:last-child::after {align-self: flex-start;width: 50%;}#sk-container-id-1 div.sk-parallel-item:only-child::after {width: 0;}#sk-container-id-1 div.sk-dashed-wrapped {border: 1px dashed gray;margin: 0 0.4em 0.5em 0.4em;box-sizing: border-box;padding-bottom: 0.4em;background-color: white;}#sk-container-id-1 div.sk-label label {font-family: monospace;font-weight: bold;display: inline-block;line-height: 1.2em;}#sk-container-id-1 div.sk-label-container {text-align: center;}#sk-container-id-1 div.sk-container {/* jupyter's `normalize.less` sets `[hidden] { display: none; }` but bootstrap.min.css set `[hidden] { display: none !important; }` so we also need the `!important` here to be able to override the default hidden behavior on the sphinx rendered scikit-learn.org. See: https://github.com/scikit-learn/scikit-learn/issues/21755 */display: inline-block !important;position: relative;}#sk-container-id-1 div.sk-text-repr-fallback {display: none;}</style><div id=\"sk-container-id-1\" class=\"sk-top-container\"><div class=\"sk-text-repr-fallback\"><pre>KNeighborsRegressor()</pre><b>In a Jupyter environment, please rerun this cell to show the HTML representation or trust the notebook. <br />On GitHub, the HTML representation is unable to render, please try loading this page with nbviewer.org.</b></div><div class=\"sk-container\" hidden><div class=\"sk-item\"><div class=\"sk-estimator sk-toggleable\"><input class=\"sk-toggleable__control sk-hidden--visually\" id=\"sk-estimator-id-1\" type=\"checkbox\" checked><label for=\"sk-estimator-id-1\" class=\"sk-toggleable__label sk-toggleable__label-arrow\">KNeighborsRegressor</label><div class=\"sk-toggleable__content\"><pre>KNeighborsRegressor()</pre></div></div></div></div></div>"
      ],
      "text/plain": [
       "KNeighborsRegressor()"
      ]
     },
     "execution_count": 7,
     "metadata": {},
     "output_type": "execute_result"
    }
   ],
   "source": [
    "knr = KNeighborsRegressor()\n",
    "\n",
    "knr.fit(train_input, train_target)"
   ]
  },
  {
   "cell_type": "markdown",
   "id": "73bda770",
   "metadata": {},
   "source": [
    "* `결정계수`(R²: Coefficient of determinateion)\n",
    "\n",
    "\n",
    "https://m.blog.naver.com/tlrror9496/222055889079\n",
    "\n",
    "\n",
    "https://m.blog.naver.com/pmw9440/221822183325\n"
   ]
  },
  {
   "cell_type": "code",
   "execution_count": 8,
   "id": "8c1c63b4",
   "metadata": {},
   "outputs": [],
   "source": [
    "from sklearn.metrics import mean_absolute_error"
   ]
  },
  {
   "cell_type": "code",
   "execution_count": 9,
   "id": "8871c038",
   "metadata": {},
   "outputs": [
    {
     "name": "stdout",
     "output_type": "stream",
     "text": [
      "19.157142857142862\n"
     ]
    }
   ],
   "source": [
    "test_prediction = knr.predict(test_input)\n",
    "\n",
    "\n",
    "# 평균 절댓값 오차\n",
    "mae = mean_absolute_error(test_target, test_prediction)\n",
    "print(mae)"
   ]
  },
  {
   "cell_type": "markdown",
   "id": "20a0cf12",
   "metadata": {},
   "source": [
    "# 과적합 문제\n",
    "\n",
    "* `과대적합`: 훈련 데이터에만 잘 맞는 모델일 때 과대적합이 일어난다. 새로운 데이터가 들어오면 해당 데이터에 관한 예측 정확도는 떨어진다\n",
    "\n",
    "* `과소적합`: 훈련 데이터, 테스트 데이터 모두에 대해 예측 정확도가 나빠지는 문제임. 해당 문제는 너무 적은 데이터셋이 훈련됐을때 일어날 수 있다."
   ]
  },
  {
   "cell_type": "code",
   "execution_count": 10,
   "id": "1f36f0a5",
   "metadata": {
    "scrolled": true
   },
   "outputs": [
    {
     "name": "stdout",
     "output_type": "stream",
     "text": [
      "테스트 데이터에 대한 예측 정확도: 0.992809406101064\n",
      "훈련 데이터에 대한 예측 정확도:0.9698823289099254\n"
     ]
    }
   ],
   "source": [
    "print(f\"테스트 데이터에 대한 예측 정확도: {knr.score(test_input, test_target)}\")\n",
    "print(f\"훈련 데이터에 대한 예측 정확도:{knr.score(train_input, train_target)}\")"
   ]
  },
  {
   "cell_type": "markdown",
   "id": "c22b5fa2",
   "metadata": {},
   "source": [
    "다음의 모델은 테스트 데이터에 대한 예측력이 높으므로 과소적합이 발생한다고 볼 수 있다.\n",
    "\n",
    "이때, 모델을 더 복잡하게 만들면 과소적합 문제를 해소할 수 있다 k-nnr에서는 이웃의 개수 k를 줄이는 것이 모델을 더 복잡하게 만드는 방법 중 하나이다. "
   ]
  },
  {
   "cell_type": "code",
   "execution_count": 11,
   "id": "b748e1af",
   "metadata": {},
   "outputs": [
    {
     "name": "stdout",
     "output_type": "stream",
     "text": [
      "테스트 데이터에 대한 예측 정확도: 0.9746459963987609\n",
      "훈련 데이터에 대한 예측 정확도: 0.9804899950518966\n"
     ]
    }
   ],
   "source": [
    "knr.n_neighbors = 3\n",
    "\n",
    "knr.fit(train_input, train_target)\n",
    "\n",
    "print(f\"테스트 데이터에 대한 예측 정확도:\", knr.score(test_input, test_target))\n",
    "print(f\"훈련 데이터에 대한 예측 정확도:\", knr.score(train_input, train_target))"
   ]
  },
  {
   "cell_type": "markdown",
   "id": "5666f2de",
   "metadata": {},
   "source": [
    "# k-nn 회귀의 문제점\n",
    "\n",
    "* 근사한 데이터 타겟값으로 예측값을 반환하기 때문에 정확한 예측이 이뤄지지 않는 경우가 있다.\n",
    "* 즉, 훈련 세트 범위를 넘어가는 샘플의 값을 예측할 수 없다.\n",
    "\n",
    "\n",
    "###  길이 50cm 무게 1500인 생선이 있을때, 모델은 이 생선의 무게를 얼마로 예측할지"
   ]
  },
  {
   "cell_type": "code",
   "execution_count": 12,
   "id": "99b1a649",
   "metadata": {},
   "outputs": [
    {
     "name": "stdout",
     "output_type": "stream",
     "text": [
      "(array([[6., 7., 7.]]), array([[34,  8, 14]], dtype=int64))\n",
      "[[34  8 14]]\n"
     ]
    }
   ],
   "source": [
    "distances, indexes = knr.kneighbors([[50]])\n",
    "print(knr.kneighbors([[50]])) # 회귀 예측값 계산에 사용된 근사한 이웃값\n",
    "print(indexes)"
   ]
  },
  {
   "cell_type": "code",
   "execution_count": 13,
   "id": "456f51b1",
   "metadata": {},
   "outputs": [
    {
     "data": {
      "image/png": "[encoded data removed]",
      "text/plain": [
       "<Figure size 640x480 with 1 Axes>"
      ]
     },
     "metadata": {},
     "output_type": "display_data"
    }
   ],
   "source": [
    "plt.scatter(train_input,train_target)\n",
    "\n",
    "# 이웃 샘플\n",
    "plt.scatter(train_input[indexes], train_target[indexes], marker =\"D\")\n",
    "\n",
    "# 50cm 농어 데이터\n",
    "plt.scatter(50,1033, marker = \"^\")\n",
    "plt.xlabel(\"length\")\n",
    "plt.ylabel(\"weight\")\n",
    "plt.show()"
   ]
  },
  {
   "cell_type": "code",
   "execution_count": 14,
   "id": "21f56fda",
   "metadata": {},
   "outputs": [
    {
     "name": "stdout",
     "output_type": "stream",
     "text": [
      "이웃값의 평균:  1033.3333333333333\n",
      "모델의 예측값:  [1033.33333333]\n"
     ]
    }
   ],
   "source": [
    "print(\"이웃값의 평균: \",np.mean(train_target[indexes]))\n",
    "print(\"모델의 예측값: \", knr.predict([[50]]))"
   ]
  },
  {
   "cell_type": "markdown",
   "id": "d3e4b74a",
   "metadata": {},
   "source": [
    "다음과 같이 실제값이 1500인데도 불구하고 k-nn 회귀는 근접한 이웃값의 평균을 예측값으로 반환하기 때문에훈련 세트범위를 넘어가는 데이터에 대해서는 예측 성능이 떨어진다."
   ]
  }
 ],
 "metadata": {
  "kernelspec": {
   "display_name": "Python 3 (ipykernel)",
   "language": "python",
   "name": "python3"
  },
  "language_info": {
   "codemirror_mode": {
    "name": "ipython",
    "version": 3
   },
   "file_extension": ".py",
   "mimetype": "text/x-python",
   "name": "python",
   "nbconvert_exporter": "python",
   "pygments_lexer": "ipython3",
   "version": "3.10.9"
  }
 },
 "nbformat": 4,
 "nbformat_minor": 5
}
